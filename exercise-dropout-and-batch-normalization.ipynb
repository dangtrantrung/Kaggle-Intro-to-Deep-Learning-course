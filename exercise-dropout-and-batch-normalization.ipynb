{
 "cells": [
  {
   "cell_type": "markdown",
   "id": "dac0d410",
   "metadata": {
    "papermill": {
     "duration": 0.006234,
     "end_time": "2024-03-13T08:43:53.706054",
     "exception": false,
     "start_time": "2024-03-13T08:43:53.699820",
     "status": "completed"
    },
    "tags": []
   },
   "source": [
    "**This notebook is an exercise in the [Intro to Deep Learning](https://www.kaggle.com/learn/intro-to-deep-learning) course.  You can reference the tutorial at [this link](https://www.kaggle.com/ryanholbrook/dropout-and-batch-normalization).**\n",
    "\n",
    "---\n"
   ]
  },
  {
   "cell_type": "markdown",
   "id": "61d2ae1d",
   "metadata": {
    "papermill": {
     "duration": 0.00551,
     "end_time": "2024-03-13T08:43:53.717208",
     "exception": false,
     "start_time": "2024-03-13T08:43:53.711698",
     "status": "completed"
    },
    "tags": []
   },
   "source": [
    "# Introduction #\n",
    "\n",
    "In this exercise, you'll add dropout to the *Spotify* model from Exercise 4 and see how batch normalization can let you successfully train models on difficult datasets.\n",
    "\n",
    "Run the next cell to get started!"
   ]
  },
  {
   "cell_type": "code",
   "execution_count": 1,
   "id": "aff533e4",
   "metadata": {
    "execution": {
     "iopub.execute_input": "2024-03-13T08:43:53.729865Z",
     "iopub.status.busy": "2024-03-13T08:43:53.729423Z",
     "iopub.status.idle": "2024-03-13T08:43:54.481417Z",
     "shell.execute_reply": "2024-03-13T08:43:54.480454Z"
    },
    "papermill": {
     "duration": 0.761159,
     "end_time": "2024-03-13T08:43:54.483989",
     "exception": false,
     "start_time": "2024-03-13T08:43:53.722830",
     "status": "completed"
    },
    "tags": []
   },
   "outputs": [
    {
     "name": "stderr",
     "output_type": "stream",
     "text": [
      "/tmp/ipykernel_26/195640296.py:3: MatplotlibDeprecationWarning: The seaborn styles shipped by Matplotlib are deprecated since 3.6, as they no longer correspond to the styles shipped by seaborn. However, they will remain available as 'seaborn-v0_8-<style>'. Alternatively, directly use the seaborn API instead.\n",
      "  plt.style.use('seaborn-whitegrid')\n"
     ]
    }
   ],
   "source": [
    "# Setup plotting\n",
    "import matplotlib.pyplot as plt\n",
    "plt.style.use('seaborn-whitegrid')\n",
    "# Set Matplotlib defaults\n",
    "plt.rc('figure', autolayout=True)\n",
    "plt.rc('axes', labelweight='bold', labelsize='large',\n",
    "       titleweight='bold', titlesize=18, titlepad=10)\n",
    "plt.rc('animation', html='html5')\n",
    "\n",
    "# Setup feedback system\n",
    "from learntools.core import binder\n",
    "binder.bind(globals())\n",
    "from learntools.deep_learning_intro.ex5 import *"
   ]
  },
  {
   "cell_type": "markdown",
   "id": "fd94134d",
   "metadata": {
    "papermill": {
     "duration": 0.005552,
     "end_time": "2024-03-13T08:43:54.495607",
     "exception": false,
     "start_time": "2024-03-13T08:43:54.490055",
     "status": "completed"
    },
    "tags": []
   },
   "source": [
    "First load the *Spotify* dataset."
   ]
  },
  {
   "cell_type": "code",
   "execution_count": 2,
   "id": "cb53d7e5",
   "metadata": {
    "execution": {
     "iopub.execute_input": "2024-03-13T08:43:54.508423Z",
     "iopub.status.busy": "2024-03-13T08:43:54.508010Z",
     "iopub.status.idle": "2024-03-13T08:44:08.242639Z",
     "shell.execute_reply": "2024-03-13T08:44:08.241616Z"
    },
    "papermill": {
     "duration": 13.744252,
     "end_time": "2024-03-13T08:44:08.245570",
     "exception": false,
     "start_time": "2024-03-13T08:43:54.501318",
     "status": "completed"
    },
    "tags": []
   },
   "outputs": [
    {
     "name": "stderr",
     "output_type": "stream",
     "text": [
      "2024-03-13 08:43:57.423799: E external/local_xla/xla/stream_executor/cuda/cuda_dnn.cc:9261] Unable to register cuDNN factory: Attempting to register factory for plugin cuDNN when one has already been registered\n",
      "2024-03-13 08:43:57.423894: E external/local_xla/xla/stream_executor/cuda/cuda_fft.cc:607] Unable to register cuFFT factory: Attempting to register factory for plugin cuFFT when one has already been registered\n",
      "2024-03-13 08:43:57.556469: E external/local_xla/xla/stream_executor/cuda/cuda_blas.cc:1515] Unable to register cuBLAS factory: Attempting to register factory for plugin cuBLAS when one has already been registered\n"
     ]
    },
    {
     "name": "stdout",
     "output_type": "stream",
     "text": [
      "Input shape: [18]\n"
     ]
    }
   ],
   "source": [
    "import pandas as pd\n",
    "from sklearn.preprocessing import StandardScaler, OneHotEncoder\n",
    "from sklearn.compose import make_column_transformer\n",
    "from sklearn.model_selection import GroupShuffleSplit\n",
    "\n",
    "from tensorflow import keras\n",
    "from tensorflow.keras import layers\n",
    "from tensorflow.keras import callbacks\n",
    "\n",
    "spotify = pd.read_csv('../input/dl-course-data/spotify.csv')\n",
    "\n",
    "X = spotify.copy().dropna()\n",
    "y = X.pop('track_popularity')\n",
    "artists = X['track_artist']\n",
    "\n",
    "features_num = ['danceability', 'energy', 'key', 'loudness', 'mode',\n",
    "                'speechiness', 'acousticness', 'instrumentalness',\n",
    "                'liveness', 'valence', 'tempo', 'duration_ms']\n",
    "features_cat = ['playlist_genre']\n",
    "\n",
    "preprocessor = make_column_transformer(\n",
    "    (StandardScaler(), features_num),\n",
    "    (OneHotEncoder(), features_cat),\n",
    ")\n",
    "\n",
    "def group_split(X, y, group, train_size=0.75):\n",
    "    splitter = GroupShuffleSplit(train_size=train_size)\n",
    "    train, test = next(splitter.split(X, y, groups=group))\n",
    "    return (X.iloc[train], X.iloc[test], y.iloc[train], y.iloc[test])\n",
    "\n",
    "X_train, X_valid, y_train, y_valid = group_split(X, y, artists)\n",
    "\n",
    "X_train = preprocessor.fit_transform(X_train)\n",
    "X_valid = preprocessor.transform(X_valid)\n",
    "y_train = y_train / 100\n",
    "y_valid = y_valid / 100\n",
    "\n",
    "input_shape = [X_train.shape[1]]\n",
    "print(\"Input shape: {}\".format(input_shape))"
   ]
  },
  {
   "cell_type": "markdown",
   "id": "b47b5709",
   "metadata": {
    "papermill": {
     "duration": 0.008477,
     "end_time": "2024-03-13T08:44:08.261182",
     "exception": false,
     "start_time": "2024-03-13T08:44:08.252705",
     "status": "completed"
    },
    "tags": []
   },
   "source": [
    "# 1) Add Dropout to Spotify Model\n",
    "\n",
    "Here is the last model from Exercise 4. Add two dropout layers, one after the `Dense` layer with 128 units, and one after the `Dense` layer with 64 units. Set the dropout rate on both to `0.3`."
   ]
  },
  {
   "cell_type": "code",
   "execution_count": 3,
   "id": "cd569732",
   "metadata": {
    "execution": {
     "iopub.execute_input": "2024-03-13T08:44:08.276565Z",
     "iopub.status.busy": "2024-03-13T08:44:08.275773Z",
     "iopub.status.idle": "2024-03-13T08:44:09.039875Z",
     "shell.execute_reply": "2024-03-13T08:44:09.038961Z"
    },
    "lines_to_next_cell": 2,
    "papermill": {
     "duration": 0.773394,
     "end_time": "2024-03-13T08:44:09.041884",
     "exception": false,
     "start_time": "2024-03-13T08:44:08.268490",
     "status": "completed"
    },
    "tags": []
   },
   "outputs": [
    {
     "data": {
      "application/javascript": [
       "parent.postMessage({\"jupyterEvent\": \"custom.exercise_interaction\", \"data\": {\"outcomeType\": 2, \"failureMessage\": \"Your model doesn't have the correct kinds of layers. You should have five layers with classes: ['Dense', 'Dropout', 'Dense', 'Dropout', 'Dense'].\", \"interactionType\": 1, \"questionType\": 2, \"questionId\": \"1_Q1\", \"learnToolsVersion\": \"0.3.4\", \"valueTowardsCompletion\": 0.0, \"exceptionClass\": \"\", \"trace\": \"\"}}, \"*\")"
      ],
      "text/plain": [
       "<IPython.core.display.Javascript object>"
      ]
     },
     "metadata": {},
     "output_type": "display_data"
    },
    {
     "data": {
      "text/markdown": [
       "<span style=\"color:#cc3333\">Incorrect:</span> Your model doesn't have the correct kinds of layers. You should have five layers with classes: ['Dense', 'Dropout', 'Dense', 'Dropout', 'Dense']."
      ],
      "text/plain": [
       "Incorrect: Your model doesn't have the correct kinds of layers. You should have five layers with classes: ['Dense', 'Dropout', 'Dense', 'Dropout', 'Dense']."
      ]
     },
     "metadata": {},
     "output_type": "display_data"
    }
   ],
   "source": [
    "# YOUR CODE HERE: Add two 30% dropout layers, one after 128 and one after 64\n",
    "model = keras.Sequential([\n",
    "    layers.Dense(128, activation='relu', input_shape=input_shape),\n",
    "    layers.Dense(64, activation='relu'),\n",
    "    layers.Dense(1)\n",
    "])\n",
    "\n",
    "# Check your answer\n",
    "q_1.check()"
   ]
  },
  {
   "cell_type": "code",
   "execution_count": 4,
   "id": "a151f2da",
   "metadata": {
    "execution": {
     "iopub.execute_input": "2024-03-13T08:44:09.056178Z",
     "iopub.status.busy": "2024-03-13T08:44:09.055495Z",
     "iopub.status.idle": "2024-03-13T08:44:09.059137Z",
     "shell.execute_reply": "2024-03-13T08:44:09.058297Z"
    },
    "papermill": {
     "duration": 0.012665,
     "end_time": "2024-03-13T08:44:09.060957",
     "exception": false,
     "start_time": "2024-03-13T08:44:09.048292",
     "status": "completed"
    },
    "tags": []
   },
   "outputs": [],
   "source": [
    "# Lines below will give you a hint or solution code\n",
    "#q_1.hint()\n",
    "#q_1.solution()"
   ]
  },
  {
   "cell_type": "markdown",
   "id": "6c575643",
   "metadata": {
    "papermill": {
     "duration": 0.006058,
     "end_time": "2024-03-13T08:44:09.073363",
     "exception": false,
     "start_time": "2024-03-13T08:44:09.067305",
     "status": "completed"
    },
    "tags": []
   },
   "source": [
    "Now run this next cell to train the model see the effect of adding dropout."
   ]
  },
  {
   "cell_type": "code",
   "execution_count": 5,
   "id": "cbc68c6f",
   "metadata": {
    "execution": {
     "iopub.execute_input": "2024-03-13T08:44:09.088677Z",
     "iopub.status.busy": "2024-03-13T08:44:09.087994Z",
     "iopub.status.idle": "2024-03-13T08:44:19.796093Z",
     "shell.execute_reply": "2024-03-13T08:44:19.795204Z"
    },
    "papermill": {
     "duration": 10.718778,
     "end_time": "2024-03-13T08:44:19.798387",
     "exception": false,
     "start_time": "2024-03-13T08:44:09.079609",
     "status": "completed"
    },
    "tags": []
   },
   "outputs": [
    {
     "name": "stderr",
     "output_type": "stream",
     "text": [
      "WARNING: All log messages before absl::InitializeLog() is called are written to STDERR\n",
      "I0000 00:00:1710319450.667979      68 device_compiler.h:186] Compiled cluster using XLA!  This line is logged at most once for the lifetime of the process.\n"
     ]
    },
    {
     "name": "stdout",
     "output_type": "stream",
     "text": [
      "Minimum Validation Loss: 0.1943\n"
     ]
    },
    {
     "data": {
      "image/png": "[encoded data removed]",
      "text/plain": [
       "<Figure size 640x480 with 1 Axes>"
      ]
     },
     "metadata": {},
     "output_type": "display_data"
    }
   ],
   "source": [
    "model.compile(\n",
    "    optimizer='adam',\n",
    "    loss='mae',\n",
    ")\n",
    "history = model.fit(\n",
    "    X_train, y_train,\n",
    "    validation_data=(X_valid, y_valid),\n",
    "    batch_size=512,\n",
    "    epochs=50,\n",
    "    verbose=0,\n",
    ")\n",
    "history_df = pd.DataFrame(history.history)\n",
    "history_df.loc[:, ['loss', 'val_loss']].plot()\n",
    "print(\"Minimum Validation Loss: {:0.4f}\".format(history_df['val_loss'].min()))"
   ]
  },
  {
   "cell_type": "markdown",
   "id": "1b27c067",
   "metadata": {
    "papermill": {
     "duration": 0.00674,
     "end_time": "2024-03-13T08:44:19.812310",
     "exception": false,
     "start_time": "2024-03-13T08:44:19.805570",
     "status": "completed"
    },
    "tags": []
   },
   "source": [
    "# 2) Evaluate Dropout\n",
    "\n",
    "Recall from Exercise 4 that this model tended to overfit the data around epoch 5. Did adding dropout seem to help prevent overfitting this time?"
   ]
  },
  {
   "cell_type": "code",
   "execution_count": 6,
   "id": "1673ee89",
   "metadata": {
    "execution": {
     "iopub.execute_input": "2024-03-13T08:44:19.827542Z",
     "iopub.status.busy": "2024-03-13T08:44:19.827243Z",
     "iopub.status.idle": "2024-03-13T08:44:19.834768Z",
     "shell.execute_reply": "2024-03-13T08:44:19.833838Z"
    },
    "papermill": {
     "duration": 0.017229,
     "end_time": "2024-03-13T08:44:19.836653",
     "exception": false,
     "start_time": "2024-03-13T08:44:19.819424",
     "status": "completed"
    },
    "tags": []
   },
   "outputs": [
    {
     "data": {
      "application/javascript": [
       "parent.postMessage({\"jupyterEvent\": \"custom.exercise_interaction\", \"data\": {\"outcomeType\": 1, \"valueTowardsCompletion\": 0.25, \"interactionType\": 1, \"questionType\": 4, \"questionId\": \"2_Q2\", \"learnToolsVersion\": \"0.3.4\", \"failureMessage\": \"\", \"exceptionClass\": \"\", \"trace\": \"\"}}, \"*\")"
      ],
      "text/plain": [
       "<IPython.core.display.Javascript object>"
      ]
     },
     "metadata": {},
     "output_type": "display_data"
    },
    {
     "data": {
      "text/markdown": [
       "<span style=\"color:#33cc33\">Correct:</span> \n",
       "\n",
       "\n",
       "From the learning curves, you can see that the validation loss remains near a constant minimum even though the training loss continues to decrease. So we can see that adding dropout did prevent overfitting this time. Moreover, by making it harder for the network to fit spurious patterns, dropout may have encouraged the network to seek out more of the true patterns, possibly improving the validation loss some as well).\n"
      ],
      "text/plain": [
       "Correct: \n",
       "\n",
       "\n",
       "From the learning curves, you can see that the validation loss remains near a constant minimum even though the training loss continues to decrease. So we can see that adding dropout did prevent overfitting this time. Moreover, by making it harder for the network to fit spurious patterns, dropout may have encouraged the network to seek out more of the true patterns, possibly improving the validation loss some as well)."
      ]
     },
     "metadata": {},
     "output_type": "display_data"
    }
   ],
   "source": [
    "# View the solution (Run this cell to receive credit!)\n",
    "q_2.check()"
   ]
  },
  {
   "cell_type": "markdown",
   "id": "f703e9cb",
   "metadata": {
    "papermill": {
     "duration": 0.007105,
     "end_time": "2024-03-13T08:44:19.851180",
     "exception": false,
     "start_time": "2024-03-13T08:44:19.844075",
     "status": "completed"
    },
    "tags": []
   },
   "source": [
    "Now, we'll switch topics to explore how batch normalization can fix problems in training.\n",
    "\n",
    "Load the *Concrete* dataset. We won't do any standardization this time. This will make the effect of batch normalization much more apparent."
   ]
  },
  {
   "cell_type": "code",
   "execution_count": 7,
   "id": "b9178c33",
   "metadata": {
    "execution": {
     "iopub.execute_input": "2024-03-13T08:44:19.867515Z",
     "iopub.status.busy": "2024-03-13T08:44:19.867247Z",
     "iopub.status.idle": "2024-03-13T08:44:19.887150Z",
     "shell.execute_reply": "2024-03-13T08:44:19.886216Z"
    },
    "papermill": {
     "duration": 0.030366,
     "end_time": "2024-03-13T08:44:19.889142",
     "exception": false,
     "start_time": "2024-03-13T08:44:19.858776",
     "status": "completed"
    },
    "tags": []
   },
   "outputs": [],
   "source": [
    "import pandas as pd\n",
    "\n",
    "concrete = pd.read_csv('../input/dl-course-data/concrete.csv')\n",
    "df = concrete.copy()\n",
    "\n",
    "df_train = df.sample(frac=0.7, random_state=0)\n",
    "df_valid = df.drop(df_train.index)\n",
    "\n",
    "X_train = df_train.drop('CompressiveStrength', axis=1)\n",
    "X_valid = df_valid.drop('CompressiveStrength', axis=1)\n",
    "y_train = df_train['CompressiveStrength']\n",
    "y_valid = df_valid['CompressiveStrength']\n",
    "\n",
    "input_shape = [X_train.shape[1]]"
   ]
  },
  {
   "cell_type": "markdown",
   "id": "24e4b911",
   "metadata": {
    "papermill": {
     "duration": 0.007181,
     "end_time": "2024-03-13T08:44:19.903758",
     "exception": false,
     "start_time": "2024-03-13T08:44:19.896577",
     "status": "completed"
    },
    "tags": []
   },
   "source": [
    "Run the following cell to train the network on the unstandardized *Concrete* data."
   ]
  },
  {
   "cell_type": "code",
   "execution_count": 8,
   "id": "3c4d3323",
   "metadata": {
    "execution": {
     "iopub.execute_input": "2024-03-13T08:44:19.919482Z",
     "iopub.status.busy": "2024-03-13T08:44:19.919227Z",
     "iopub.status.idle": "2024-03-13T08:44:27.303082Z",
     "shell.execute_reply": "2024-03-13T08:44:27.302139Z"
    },
    "papermill": {
     "duration": 7.394119,
     "end_time": "2024-03-13T08:44:27.305252",
     "exception": false,
     "start_time": "2024-03-13T08:44:19.911133",
     "status": "completed"
    },
    "tags": []
   },
   "outputs": [
    {
     "name": "stdout",
     "output_type": "stream",
     "text": [
      "Minimum Validation Loss: nan\n"
     ]
    },
    {
     "data": {
      "image/png": "[encoded data removed]",
      "text/plain": [
       "<Figure size 640x480 with 1 Axes>"
      ]
     },
     "metadata": {},
     "output_type": "display_data"
    }
   ],
   "source": [
    "model = keras.Sequential([\n",
    "    layers.Dense(512, activation='relu', input_shape=input_shape),\n",
    "    layers.Dense(512, activation='relu'),    \n",
    "    layers.Dense(512, activation='relu'),\n",
    "    layers.Dense(1),\n",
    "])\n",
    "model.compile(\n",
    "    optimizer='sgd', # SGD is more sensitive to differences of scale\n",
    "    loss='mae',\n",
    "    metrics=['mae'],\n",
    ")\n",
    "history = model.fit(\n",
    "    X_train, y_train,\n",
    "    validation_data=(X_valid, y_valid),\n",
    "    batch_size=64,\n",
    "    epochs=100,\n",
    "    verbose=0,\n",
    ")\n",
    "\n",
    "history_df = pd.DataFrame(history.history)\n",
    "history_df.loc[0:, ['loss', 'val_loss']].plot()\n",
    "print((\"Minimum Validation Loss: {:0.4f}\").format(history_df['val_loss'].min()))"
   ]
  },
  {
   "cell_type": "markdown",
   "id": "207df182",
   "metadata": {
    "papermill": {
     "duration": 0.007829,
     "end_time": "2024-03-13T08:44:27.321151",
     "exception": false,
     "start_time": "2024-03-13T08:44:27.313322",
     "status": "completed"
    },
    "tags": []
   },
   "source": [
    "Did you end up with a blank graph? Trying to train this network on this dataset will usually fail. Even when it does converge (due to a lucky weight initialization), it tends to converge to a very large number.\n",
    "\n",
    "# 3) Add Batch Normalization Layers\n",
    "\n",
    "Batch normalization can help correct problems like this.\n",
    "\n",
    "Add four `BatchNormalization` layers, one before each of the dense layers. (Remember to move the `input_shape` argument to the new first layer.)"
   ]
  },
  {
   "cell_type": "code",
   "execution_count": 9,
   "id": "dfd7fe8e",
   "metadata": {
    "execution": {
     "iopub.execute_input": "2024-03-13T08:44:27.339569Z",
     "iopub.status.busy": "2024-03-13T08:44:27.338529Z",
     "iopub.status.idle": "2024-03-13T08:44:27.396409Z",
     "shell.execute_reply": "2024-03-13T08:44:27.395393Z"
    },
    "lines_to_next_cell": 0,
    "papermill": {
     "duration": 0.069701,
     "end_time": "2024-03-13T08:44:27.398844",
     "exception": false,
     "start_time": "2024-03-13T08:44:27.329143",
     "status": "completed"
    },
    "tags": []
   },
   "outputs": [
    {
     "data": {
      "application/javascript": [
       "parent.postMessage({\"jupyterEvent\": \"custom.exercise_interaction\", \"data\": {\"outcomeType\": 2, \"failureMessage\": \"Your model doesn't have the correct kinds of layers. You should have eight layers with classes: ['BatchNormalization', 'Dense', 'BatchNormalization', 'Dense', 'BatchNormalization', 'Dense', 'BatchNormalization', 'Dense'].\", \"interactionType\": 1, \"questionType\": 2, \"questionId\": \"3_Q3\", \"learnToolsVersion\": \"0.3.4\", \"valueTowardsCompletion\": 0.0, \"exceptionClass\": \"\", \"trace\": \"\"}}, \"*\")"
      ],
      "text/plain": [
       "<IPython.core.display.Javascript object>"
      ]
     },
     "metadata": {},
     "output_type": "display_data"
    },
    {
     "data": {
      "text/markdown": [
       "<span style=\"color:#cc3333\">Incorrect:</span> Your model doesn't have the correct kinds of layers. You should have eight layers with classes: ['BatchNormalization', 'Dense', 'BatchNormalization', 'Dense', 'BatchNormalization', 'Dense', 'BatchNormalization', 'Dense']."
      ],
      "text/plain": [
       "Incorrect: Your model doesn't have the correct kinds of layers. You should have eight layers with classes: ['BatchNormalization', 'Dense', 'BatchNormalization', 'Dense', 'BatchNormalization', 'Dense', 'BatchNormalization', 'Dense']."
      ]
     },
     "metadata": {},
     "output_type": "display_data"
    }
   ],
   "source": [
    "# YOUR CODE HERE: Add a BatchNormalization layer before each Dense layer\n",
    "model = keras.Sequential([\n",
    "    layers.Dense(512, activation='relu', input_shape=input_shape),\n",
    "    layers.Dense(512, activation='relu'),\n",
    "    layers.Dense(512, activation='relu'),\n",
    "    layers.Dense(1),\n",
    "])\n",
    "\n",
    "# Check your answer\n",
    "q_3.check()"
   ]
  },
  {
   "cell_type": "code",
   "execution_count": 10,
   "id": "3f30895c",
   "metadata": {
    "execution": {
     "iopub.execute_input": "2024-03-13T08:44:27.416689Z",
     "iopub.status.busy": "2024-03-13T08:44:27.416378Z",
     "iopub.status.idle": "2024-03-13T08:44:27.420300Z",
     "shell.execute_reply": "2024-03-13T08:44:27.419418Z"
    },
    "papermill": {
     "duration": 0.014774,
     "end_time": "2024-03-13T08:44:27.422174",
     "exception": false,
     "start_time": "2024-03-13T08:44:27.407400",
     "status": "completed"
    },
    "tags": []
   },
   "outputs": [],
   "source": [
    "# Lines below will give you a hint or solution code\n",
    "#q_3.hint()\n",
    "#q_3.solution()"
   ]
  },
  {
   "cell_type": "markdown",
   "id": "d6a93211",
   "metadata": {
    "papermill": {
     "duration": 0.008316,
     "end_time": "2024-03-13T08:44:27.438808",
     "exception": false,
     "start_time": "2024-03-13T08:44:27.430492",
     "status": "completed"
    },
    "tags": []
   },
   "source": [
    "Run the next cell to see if batch normalization will let us train the model."
   ]
  },
  {
   "cell_type": "code",
   "execution_count": 11,
   "id": "b404b58d",
   "metadata": {
    "execution": {
     "iopub.execute_input": "2024-03-13T08:44:27.456703Z",
     "iopub.status.busy": "2024-03-13T08:44:27.456171Z",
     "iopub.status.idle": "2024-03-13T08:44:34.682875Z",
     "shell.execute_reply": "2024-03-13T08:44:34.681403Z"
    },
    "papermill": {
     "duration": 7.238509,
     "end_time": "2024-03-13T08:44:34.685774",
     "exception": false,
     "start_time": "2024-03-13T08:44:27.447265",
     "status": "completed"
    },
    "tags": []
   },
   "outputs": [
    {
     "name": "stdout",
     "output_type": "stream",
     "text": [
      "Minimum Validation Loss: nan\n"
     ]
    },
    {
     "data": {
      "image/png": "[encoded data removed]",
      "text/plain": [
       "<Figure size 640x480 with 1 Axes>"
      ]
     },
     "metadata": {},
     "output_type": "display_data"
    }
   ],
   "source": [
    "model.compile(\n",
    "    optimizer='sgd',\n",
    "    loss='mae',\n",
    "    metrics=['mae'],\n",
    ")\n",
    "EPOCHS = 100\n",
    "history = model.fit(\n",
    "    X_train, y_train,\n",
    "    validation_data=(X_valid, y_valid),\n",
    "    batch_size=64,\n",
    "    epochs=EPOCHS,\n",
    "    verbose=0,\n",
    ")\n",
    "\n",
    "history_df = pd.DataFrame(history.history)\n",
    "history_df.loc[0:, ['loss', 'val_loss']].plot()\n",
    "print((\"Minimum Validation Loss: {:0.4f}\").format(history_df['val_loss'].min()))"
   ]
  },
  {
   "cell_type": "markdown",
   "id": "6e88b0d6",
   "metadata": {
    "papermill": {
     "duration": 0.008326,
     "end_time": "2024-03-13T08:44:34.703107",
     "exception": false,
     "start_time": "2024-03-13T08:44:34.694781",
     "status": "completed"
    },
    "tags": []
   },
   "source": [
    "# 4) Evaluate Batch Normalization\n",
    "\n",
    "Did adding batch normalization help?"
   ]
  },
  {
   "cell_type": "code",
   "execution_count": 12,
   "id": "87a7c9d1",
   "metadata": {
    "execution": {
     "iopub.execute_input": "2024-03-13T08:44:34.721694Z",
     "iopub.status.busy": "2024-03-13T08:44:34.721346Z",
     "iopub.status.idle": "2024-03-13T08:44:34.728839Z",
     "shell.execute_reply": "2024-03-13T08:44:34.727975Z"
    },
    "lines_to_next_cell": 0,
    "papermill": {
     "duration": 0.019261,
     "end_time": "2024-03-13T08:44:34.730876",
     "exception": false,
     "start_time": "2024-03-13T08:44:34.711615",
     "status": "completed"
    },
    "tags": []
   },
   "outputs": [
    {
     "data": {
      "application/javascript": [
       "parent.postMessage({\"jupyterEvent\": \"custom.exercise_interaction\", \"data\": {\"outcomeType\": 1, \"valueTowardsCompletion\": 0.25, \"interactionType\": 1, \"questionType\": 4, \"questionId\": \"4_Q4\", \"learnToolsVersion\": \"0.3.4\", \"failureMessage\": \"\", \"exceptionClass\": \"\", \"trace\": \"\"}}, \"*\")"
      ],
      "text/plain": [
       "<IPython.core.display.Javascript object>"
      ]
     },
     "metadata": {},
     "output_type": "display_data"
    },
    {
     "data": {
      "text/markdown": [
       "<span style=\"color:#33cc33\">Correct:</span> \n",
       "\n",
       "\n",
       "You can see that adding batch normalization was a big improvement on the first attempt! By adaptively scaling the data as it passes through the network, batch normalization can let you train models on difficult datasets.\n"
      ],
      "text/plain": [
       "Correct: \n",
       "\n",
       "\n",
       "You can see that adding batch normalization was a big improvement on the first attempt! By adaptively scaling the data as it passes through the network, batch normalization can let you train models on difficult datasets."
      ]
     },
     "metadata": {},
     "output_type": "display_data"
    }
   ],
   "source": [
    "# View the solution (Run this cell to receive credit!)\n",
    "q_4.check()"
   ]
  },
  {
   "cell_type": "markdown",
   "id": "2739b5ad",
   "metadata": {
    "papermill": {
     "duration": 0.008679,
     "end_time": "2024-03-13T08:44:34.748668",
     "exception": false,
     "start_time": "2024-03-13T08:44:34.739989",
     "status": "completed"
    },
    "tags": []
   },
   "source": [
    "# Keep Going #\n",
    "\n",
    "[**Create neural networks**](https://www.kaggle.com/ryanholbrook/binary-classification) for binary classification."
   ]
  },
  {
   "cell_type": "markdown",
   "id": "bd106d23",
   "metadata": {
    "papermill": {
     "duration": 0.008549,
     "end_time": "2024-03-13T08:44:34.766248",
     "exception": false,
     "start_time": "2024-03-13T08:44:34.757699",
     "status": "completed"
    },
    "tags": []
   },
   "source": [
    "---\n",
    "\n",
    "\n",
    "\n",
    "\n",
    "*Have questions or comments? Visit the [course discussion forum](https://www.kaggle.com/learn/intro-to-deep-learning/discussion) to chat with other learners.*"
   ]
  }
 ],
 "metadata": {
  "jupytext": {
   "cell_metadata_filter": "-all",
   "formats": "ipynb"
  },
  "kaggle": {
   "accelerator": "gpu",
   "dataSources": [
    {
     "datasetId": 829369,
     "sourceId": 1480608,
     "sourceType": "datasetVersion"
    }
   ],
   "dockerImageVersionId": 30648,
   "isGpuEnabled": true,
   "isInternetEnabled": false,
   "language": "python",
   "sourceType": "notebook"
  },
  "kernelspec": {
   "display_name": "Python 3",
   "language": "python",
   "name": "python3"
  },
  "language_info": {
   "codemirror_mode": {
    "name": "ipython",
    "version": 3
   },
   "file_extension": ".py",
   "mimetype": "text/x-python",
   "name": "python",
   "nbconvert_exporter": "python",
   "pygments_lexer": "ipython3",
   "version": "3.10.13"
  },
  "papermill": {
   "default_parameters": {},
   "duration": 46.149821,
   "end_time": "2024-03-13T08:44:37.126849",
   "environment_variables": {},
   "exception": null,
   "input_path": "__notebook__.ipynb",
   "output_path": "__notebook__.ipynb",
   "parameters": {},
   "start_time": "2024-03-13T08:43:50.977028",
   "version": "2.5.0"
  }
 },
 "nbformat": 4,
 "nbformat_minor": 5
}
