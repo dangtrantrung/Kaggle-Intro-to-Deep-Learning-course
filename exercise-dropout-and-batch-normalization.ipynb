{
 "cells": [
  {
   "cell_type": "markdown",
   "id": "20b59d5c",
   "metadata": {
    "papermill": {
     "duration": 0.006571,
     "end_time": "2024-03-13T08:52:09.850830",
     "exception": false,
     "start_time": "2024-03-13T08:52:09.844259",
     "status": "completed"
    },
    "tags": []
   },
   "source": [
    "**This notebook is an exercise in the [Intro to Deep Learning](https://www.kaggle.com/learn/intro-to-deep-learning) course.  You can reference the tutorial at [this link](https://www.kaggle.com/ryanholbrook/dropout-and-batch-normalization).**\n",
    "\n",
    "---\n"
   ]
  },
  {
   "cell_type": "markdown",
   "id": "f0cbee1c",
   "metadata": {
    "papermill": {
     "duration": 0.005737,
     "end_time": "2024-03-13T08:52:09.862888",
     "exception": false,
     "start_time": "2024-03-13T08:52:09.857151",
     "status": "completed"
    },
    "tags": []
   },
   "source": [
    "# Introduction #\n",
    "\n",
    "In this exercise, you'll add dropout to the *Spotify* model from Exercise 4 and see how batch normalization can let you successfully train models on difficult datasets.\n",
    "\n",
    "Run the next cell to get started!"
   ]
  },
  {
   "cell_type": "code",
   "execution_count": 1,
   "id": "2935bebe",
   "metadata": {
    "execution": {
     "iopub.execute_input": "2024-03-13T08:52:09.875769Z",
     "iopub.status.busy": "2024-03-13T08:52:09.875479Z",
     "iopub.status.idle": "2024-03-13T08:52:10.615904Z",
     "shell.execute_reply": "2024-03-13T08:52:10.614978Z"
    },
    "papermill": {
     "duration": 0.749465,
     "end_time": "2024-03-13T08:52:10.618244",
     "exception": false,
     "start_time": "2024-03-13T08:52:09.868779",
     "status": "completed"
    },
    "tags": []
   },
   "outputs": [
    {
     "name": "stderr",
     "output_type": "stream",
     "text": [
      "/tmp/ipykernel_26/195640296.py:3: MatplotlibDeprecationWarning: The seaborn styles shipped by Matplotlib are deprecated since 3.6, as they no longer correspond to the styles shipped by seaborn. However, they will remain available as 'seaborn-v0_8-<style>'. Alternatively, directly use the seaborn API instead.\n",
      "  plt.style.use('seaborn-whitegrid')\n"
     ]
    }
   ],
   "source": [
    "# Setup plotting\n",
    "import matplotlib.pyplot as plt\n",
    "plt.style.use('seaborn-whitegrid')\n",
    "# Set Matplotlib defaults\n",
    "plt.rc('figure', autolayout=True)\n",
    "plt.rc('axes', labelweight='bold', labelsize='large',\n",
    "       titleweight='bold', titlesize=18, titlepad=10)\n",
    "plt.rc('animation', html='html5')\n",
    "\n",
    "# Setup feedback system\n",
    "from learntools.core import binder\n",
    "binder.bind(globals())\n",
    "from learntools.deep_learning_intro.ex5 import *"
   ]
  },
  {
   "cell_type": "markdown",
   "id": "b35c0e10",
   "metadata": {
    "papermill": {
     "duration": 0.006086,
     "end_time": "2024-03-13T08:52:10.630778",
     "exception": false,
     "start_time": "2024-03-13T08:52:10.624692",
     "status": "completed"
    },
    "tags": []
   },
   "source": [
    "First load the *Spotify* dataset."
   ]
  },
  {
   "cell_type": "code",
   "execution_count": 2,
   "id": "89ffb8d9",
   "metadata": {
    "execution": {
     "iopub.execute_input": "2024-03-13T08:52:10.644409Z",
     "iopub.status.busy": "2024-03-13T08:52:10.643651Z",
     "iopub.status.idle": "2024-03-13T08:52:24.096555Z",
     "shell.execute_reply": "2024-03-13T08:52:24.095540Z"
    },
    "papermill": {
     "duration": 13.461935,
     "end_time": "2024-03-13T08:52:24.098691",
     "exception": false,
     "start_time": "2024-03-13T08:52:10.636756",
     "status": "completed"
    },
    "tags": []
   },
   "outputs": [
    {
     "name": "stderr",
     "output_type": "stream",
     "text": [
      "2024-03-13 08:52:13.436568: E external/local_xla/xla/stream_executor/cuda/cuda_dnn.cc:9261] Unable to register cuDNN factory: Attempting to register factory for plugin cuDNN when one has already been registered\n",
      "2024-03-13 08:52:13.436684: E external/local_xla/xla/stream_executor/cuda/cuda_fft.cc:607] Unable to register cuFFT factory: Attempting to register factory for plugin cuFFT when one has already been registered\n",
      "2024-03-13 08:52:13.563952: E external/local_xla/xla/stream_executor/cuda/cuda_blas.cc:1515] Unable to register cuBLAS factory: Attempting to register factory for plugin cuBLAS when one has already been registered\n"
     ]
    },
    {
     "name": "stdout",
     "output_type": "stream",
     "text": [
      "Input shape: [18]\n"
     ]
    }
   ],
   "source": [
    "import pandas as pd\n",
    "from sklearn.preprocessing import StandardScaler, OneHotEncoder\n",
    "from sklearn.compose import make_column_transformer\n",
    "from sklearn.model_selection import GroupShuffleSplit\n",
    "\n",
    "from tensorflow import keras\n",
    "from tensorflow.keras import layers\n",
    "from tensorflow.keras import callbacks\n",
    "\n",
    "spotify = pd.read_csv('../input/dl-course-data/spotify.csv')\n",
    "\n",
    "X = spotify.copy().dropna()\n",
    "y = X.pop('track_popularity')\n",
    "artists = X['track_artist']\n",
    "\n",
    "features_num = ['danceability', 'energy', 'key', 'loudness', 'mode',\n",
    "                'speechiness', 'acousticness', 'instrumentalness',\n",
    "                'liveness', 'valence', 'tempo', 'duration_ms']\n",
    "features_cat = ['playlist_genre']\n",
    "\n",
    "preprocessor = make_column_transformer(\n",
    "    (StandardScaler(), features_num),\n",
    "    (OneHotEncoder(), features_cat),\n",
    ")\n",
    "\n",
    "def group_split(X, y, group, train_size=0.75):\n",
    "    splitter = GroupShuffleSplit(train_size=train_size)\n",
    "    train, test = next(splitter.split(X, y, groups=group))\n",
    "    return (X.iloc[train], X.iloc[test], y.iloc[train], y.iloc[test])\n",
    "\n",
    "X_train, X_valid, y_train, y_valid = group_split(X, y, artists)\n",
    "\n",
    "X_train = preprocessor.fit_transform(X_train)\n",
    "X_valid = preprocessor.transform(X_valid)\n",
    "y_train = y_train / 100\n",
    "y_valid = y_valid / 100\n",
    "\n",
    "input_shape = [X_train.shape[1]]\n",
    "print(\"Input shape: {}\".format(input_shape))"
   ]
  },
  {
   "cell_type": "markdown",
   "id": "dcecc7b9",
   "metadata": {
    "papermill": {
     "duration": 0.006091,
     "end_time": "2024-03-13T08:52:24.111292",
     "exception": false,
     "start_time": "2024-03-13T08:52:24.105201",
     "status": "completed"
    },
    "tags": []
   },
   "source": [
    "# 1) Add Dropout to Spotify Model\n",
    "\n",
    "Here is the last model from Exercise 4. Add two dropout layers, one after the `Dense` layer with 128 units, and one after the `Dense` layer with 64 units. Set the dropout rate on both to `0.3`."
   ]
  },
  {
   "cell_type": "code",
   "execution_count": 3,
   "id": "6f309f30",
   "metadata": {
    "execution": {
     "iopub.execute_input": "2024-03-13T08:52:24.124907Z",
     "iopub.status.busy": "2024-03-13T08:52:24.124597Z",
     "iopub.status.idle": "2024-03-13T08:52:24.854922Z",
     "shell.execute_reply": "2024-03-13T08:52:24.853727Z"
    },
    "lines_to_next_cell": 2,
    "papermill": {
     "duration": 0.740413,
     "end_time": "2024-03-13T08:52:24.857866",
     "exception": false,
     "start_time": "2024-03-13T08:52:24.117453",
     "status": "completed"
    },
    "tags": []
   },
   "outputs": [
    {
     "data": {
      "application/javascript": [
       "parent.postMessage({\"jupyterEvent\": \"custom.exercise_interaction\", \"data\": {\"outcomeType\": 1, \"valueTowardsCompletion\": 0.25, \"interactionType\": 1, \"questionType\": 2, \"questionId\": \"1_Q1\", \"learnToolsVersion\": \"0.3.4\", \"failureMessage\": \"\", \"exceptionClass\": \"\", \"trace\": \"\"}}, \"*\")"
      ],
      "text/plain": [
       "<IPython.core.display.Javascript object>"
      ]
     },
     "metadata": {},
     "output_type": "display_data"
    },
    {
     "data": {
      "text/markdown": [
       "<span style=\"color:#33cc33\">Correct</span>"
      ],
      "text/plain": [
       "Correct"
      ]
     },
     "metadata": {},
     "output_type": "display_data"
    }
   ],
   "source": [
    "# YOUR CODE HERE: Add two 30% dropout layers, one after 128 and one after 64\n",
    "model = keras.Sequential([\n",
    "    layers.Dense(128, activation='relu', input_shape=input_shape),\n",
    "    layers.Dropout(rate=0.3),\n",
    "    layers.Dense(64, activation='relu'),\n",
    "    layers.Dropout(rate=0.3),\n",
    "    layers.Dense(1)\n",
    "])\n",
    "\n",
    "# Check your answer\n",
    "q_1.check()"
   ]
  },
  {
   "cell_type": "code",
   "execution_count": 4,
   "id": "715f646b",
   "metadata": {
    "execution": {
     "iopub.execute_input": "2024-03-13T08:52:24.877767Z",
     "iopub.status.busy": "2024-03-13T08:52:24.877001Z",
     "iopub.status.idle": "2024-03-13T08:52:24.880906Z",
     "shell.execute_reply": "2024-03-13T08:52:24.880017Z"
    },
    "papermill": {
     "duration": 0.01632,
     "end_time": "2024-03-13T08:52:24.882927",
     "exception": false,
     "start_time": "2024-03-13T08:52:24.866607",
     "status": "completed"
    },
    "tags": []
   },
   "outputs": [],
   "source": [
    "# Lines below will give you a hint or solution code\n",
    "#q_1.hint()\n",
    "#q_1.solution()"
   ]
  },
  {
   "cell_type": "markdown",
   "id": "77a0f594",
   "metadata": {
    "papermill": {
     "duration": 0.00635,
     "end_time": "2024-03-13T08:52:24.896178",
     "exception": false,
     "start_time": "2024-03-13T08:52:24.889828",
     "status": "completed"
    },
    "tags": []
   },
   "source": [
    "Now run this next cell to train the model see the effect of adding dropout."
   ]
  },
  {
   "cell_type": "code",
   "execution_count": 5,
   "id": "715a635b",
   "metadata": {
    "execution": {
     "iopub.execute_input": "2024-03-13T08:52:24.911640Z",
     "iopub.status.busy": "2024-03-13T08:52:24.910877Z",
     "iopub.status.idle": "2024-03-13T08:52:36.559301Z",
     "shell.execute_reply": "2024-03-13T08:52:36.558442Z"
    },
    "papermill": {
     "duration": 11.658591,
     "end_time": "2024-03-13T08:52:36.561244",
     "exception": false,
     "start_time": "2024-03-13T08:52:24.902653",
     "status": "completed"
    },
    "tags": []
   },
   "outputs": [
    {
     "name": "stderr",
     "output_type": "stream",
     "text": [
      "WARNING: All log messages before absl::InitializeLog() is called are written to STDERR\n",
      "I0000 00:00:1710319947.399332      66 device_compiler.h:186] Compiled cluster using XLA!  This line is logged at most once for the lifetime of the process.\n"
     ]
    },
    {
     "name": "stdout",
     "output_type": "stream",
     "text": [
      "Minimum Validation Loss: 0.1887\n"
     ]
    },
    {
     "data": {
      "image/png": "[encoded data removed]",
      "text/plain": [
       "<Figure size 640x480 with 1 Axes>"
      ]
     },
     "metadata": {},
     "output_type": "display_data"
    }
   ],
   "source": [
    "model.compile(\n",
    "    optimizer='adam',\n",
    "    loss='mae',\n",
    ")\n",
    "history = model.fit(\n",
    "    X_train, y_train,\n",
    "    validation_data=(X_valid, y_valid),\n",
    "    batch_size=512,\n",
    "    epochs=50,\n",
    "    verbose=0,\n",
    ")\n",
    "history_df = pd.DataFrame(history.history)\n",
    "history_df.loc[:, ['loss', 'val_loss']].plot()\n",
    "print(\"Minimum Validation Loss: {:0.4f}\".format(history_df['val_loss'].min()))"
   ]
  },
  {
   "cell_type": "markdown",
   "id": "7e35fd23",
   "metadata": {
    "papermill": {
     "duration": 0.006971,
     "end_time": "2024-03-13T08:52:36.575458",
     "exception": false,
     "start_time": "2024-03-13T08:52:36.568487",
     "status": "completed"
    },
    "tags": []
   },
   "source": [
    "# 2) Evaluate Dropout\n",
    "\n",
    "Recall from Exercise 4 that this model tended to overfit the data around epoch 5. Did adding dropout seem to help prevent overfitting this time?"
   ]
  },
  {
   "cell_type": "code",
   "execution_count": 6,
   "id": "396500a5",
   "metadata": {
    "execution": {
     "iopub.execute_input": "2024-03-13T08:52:36.590982Z",
     "iopub.status.busy": "2024-03-13T08:52:36.590413Z",
     "iopub.status.idle": "2024-03-13T08:52:36.597535Z",
     "shell.execute_reply": "2024-03-13T08:52:36.596633Z"
    },
    "papermill": {
     "duration": 0.016962,
     "end_time": "2024-03-13T08:52:36.599535",
     "exception": false,
     "start_time": "2024-03-13T08:52:36.582573",
     "status": "completed"
    },
    "tags": []
   },
   "outputs": [
    {
     "data": {
      "application/javascript": [
       "parent.postMessage({\"jupyterEvent\": \"custom.exercise_interaction\", \"data\": {\"outcomeType\": 1, \"valueTowardsCompletion\": 0.25, \"interactionType\": 1, \"questionType\": 4, \"questionId\": \"2_Q2\", \"learnToolsVersion\": \"0.3.4\", \"failureMessage\": \"\", \"exceptionClass\": \"\", \"trace\": \"\"}}, \"*\")"
      ],
      "text/plain": [
       "<IPython.core.display.Javascript object>"
      ]
     },
     "metadata": {},
     "output_type": "display_data"
    },
    {
     "data": {
      "text/markdown": [
       "<span style=\"color:#33cc33\">Correct:</span> \n",
       "\n",
       "\n",
       "From the learning curves, you can see that the validation loss remains near a constant minimum even though the training loss continues to decrease. So we can see that adding dropout did prevent overfitting this time. Moreover, by making it harder for the network to fit spurious patterns, dropout may have encouraged the network to seek out more of the true patterns, possibly improving the validation loss some as well).\n"
      ],
      "text/plain": [
       "Correct: \n",
       "\n",
       "\n",
       "From the learning curves, you can see that the validation loss remains near a constant minimum even though the training loss continues to decrease. So we can see that adding dropout did prevent overfitting this time. Moreover, by making it harder for the network to fit spurious patterns, dropout may have encouraged the network to seek out more of the true patterns, possibly improving the validation loss some as well)."
      ]
     },
     "metadata": {},
     "output_type": "display_data"
    }
   ],
   "source": [
    "# View the solution (Run this cell to receive credit!)\n",
    "q_2.check()"
   ]
  },
  {
   "cell_type": "markdown",
   "id": "1e5f15b1",
   "metadata": {
    "papermill": {
     "duration": 0.007786,
     "end_time": "2024-03-13T08:52:36.614699",
     "exception": false,
     "start_time": "2024-03-13T08:52:36.606913",
     "status": "completed"
    },
    "tags": []
   },
   "source": [
    "Now, we'll switch topics to explore how batch normalization can fix problems in training.\n",
    "\n",
    "Load the *Concrete* dataset. We won't do any standardization this time. This will make the effect of batch normalization much more apparent."
   ]
  },
  {
   "cell_type": "code",
   "execution_count": 7,
   "id": "dc0b2c18",
   "metadata": {
    "execution": {
     "iopub.execute_input": "2024-03-13T08:52:36.630878Z",
     "iopub.status.busy": "2024-03-13T08:52:36.630627Z",
     "iopub.status.idle": "2024-03-13T08:52:36.649989Z",
     "shell.execute_reply": "2024-03-13T08:52:36.649231Z"
    },
    "papermill": {
     "duration": 0.029756,
     "end_time": "2024-03-13T08:52:36.651939",
     "exception": false,
     "start_time": "2024-03-13T08:52:36.622183",
     "status": "completed"
    },
    "tags": []
   },
   "outputs": [],
   "source": [
    "import pandas as pd\n",
    "\n",
    "concrete = pd.read_csv('../input/dl-course-data/concrete.csv')\n",
    "df = concrete.copy()\n",
    "\n",
    "df_train = df.sample(frac=0.7, random_state=0)\n",
    "df_valid = df.drop(df_train.index)\n",
    "\n",
    "X_train = df_train.drop('CompressiveStrength', axis=1)\n",
    "X_valid = df_valid.drop('CompressiveStrength', axis=1)\n",
    "y_train = df_train['CompressiveStrength']\n",
    "y_valid = df_valid['CompressiveStrength']\n",
    "\n",
    "input_shape = [X_train.shape[1]]"
   ]
  },
  {
   "cell_type": "markdown",
   "id": "bdb5b35b",
   "metadata": {
    "papermill": {
     "duration": 0.007211,
     "end_time": "2024-03-13T08:52:36.666795",
     "exception": false,
     "start_time": "2024-03-13T08:52:36.659584",
     "status": "completed"
    },
    "tags": []
   },
   "source": [
    "Run the following cell to train the network on the unstandardized *Concrete* data."
   ]
  },
  {
   "cell_type": "code",
   "execution_count": 8,
   "id": "d0b29abf",
   "metadata": {
    "execution": {
     "iopub.execute_input": "2024-03-13T08:52:36.682849Z",
     "iopub.status.busy": "2024-03-13T08:52:36.682564Z",
     "iopub.status.idle": "2024-03-13T08:52:43.818046Z",
     "shell.execute_reply": "2024-03-13T08:52:43.817167Z"
    },
    "papermill": {
     "duration": 7.145705,
     "end_time": "2024-03-13T08:52:43.819930",
     "exception": false,
     "start_time": "2024-03-13T08:52:36.674225",
     "status": "completed"
    },
    "tags": []
   },
   "outputs": [
    {
     "name": "stdout",
     "output_type": "stream",
     "text": [
      "Minimum Validation Loss: nan\n"
     ]
    },
    {
     "data": {
      "image/png": "[encoded data removed]",
      "text/plain": [
       "<Figure size 640x480 with 1 Axes>"
      ]
     },
     "metadata": {},
     "output_type": "display_data"
    }
   ],
   "source": [
    "model = keras.Sequential([\n",
    "    layers.Dense(512, activation='relu', input_shape=input_shape),\n",
    "    layers.Dense(512, activation='relu'),    \n",
    "    layers.Dense(512, activation='relu'),\n",
    "    layers.Dense(1),\n",
    "])\n",
    "model.compile(\n",
    "    optimizer='sgd', # SGD is more sensitive to differences of scale\n",
    "    loss='mae',\n",
    "    metrics=['mae'],\n",
    ")\n",
    "history = model.fit(\n",
    "    X_train, y_train,\n",
    "    validation_data=(X_valid, y_valid),\n",
    "    batch_size=64,\n",
    "    epochs=100,\n",
    "    verbose=0,\n",
    ")\n",
    "\n",
    "history_df = pd.DataFrame(history.history)\n",
    "history_df.loc[0:, ['loss', 'val_loss']].plot()\n",
    "print((\"Minimum Validation Loss: {:0.4f}\").format(history_df['val_loss'].min()))"
   ]
  },
  {
   "cell_type": "markdown",
   "id": "16fcc7c4",
   "metadata": {
    "papermill": {
     "duration": 0.007655,
     "end_time": "2024-03-13T08:52:43.835523",
     "exception": false,
     "start_time": "2024-03-13T08:52:43.827868",
     "status": "completed"
    },
    "tags": []
   },
   "source": [
    "Did you end up with a blank graph? Trying to train this network on this dataset will usually fail. Even when it does converge (due to a lucky weight initialization), it tends to converge to a very large number.\n",
    "\n",
    "# 3) Add Batch Normalization Layers\n",
    "\n",
    "Batch normalization can help correct problems like this.\n",
    "\n",
    "Add four `BatchNormalization` layers, one before each of the dense layers. (Remember to move the `input_shape` argument to the new first layer.)"
   ]
  },
  {
   "cell_type": "code",
   "execution_count": 9,
   "id": "65d44748",
   "metadata": {
    "execution": {
     "iopub.execute_input": "2024-03-13T08:52:43.852379Z",
     "iopub.status.busy": "2024-03-13T08:52:43.851869Z",
     "iopub.status.idle": "2024-03-13T08:52:43.981334Z",
     "shell.execute_reply": "2024-03-13T08:52:43.980475Z"
    },
    "lines_to_next_cell": 0,
    "papermill": {
     "duration": 0.139923,
     "end_time": "2024-03-13T08:52:43.983199",
     "exception": false,
     "start_time": "2024-03-13T08:52:43.843276",
     "status": "completed"
    },
    "tags": []
   },
   "outputs": [
    {
     "data": {
      "application/javascript": [
       "parent.postMessage({\"jupyterEvent\": \"custom.exercise_interaction\", \"data\": {\"outcomeType\": 1, \"valueTowardsCompletion\": 0.25, \"interactionType\": 1, \"questionType\": 2, \"questionId\": \"3_Q3\", \"learnToolsVersion\": \"0.3.4\", \"failureMessage\": \"\", \"exceptionClass\": \"\", \"trace\": \"\"}}, \"*\")"
      ],
      "text/plain": [
       "<IPython.core.display.Javascript object>"
      ]
     },
     "metadata": {},
     "output_type": "display_data"
    },
    {
     "data": {
      "text/markdown": [
       "<span style=\"color:#33cc33\">Correct</span>"
      ],
      "text/plain": [
       "Correct"
      ]
     },
     "metadata": {},
     "output_type": "display_data"
    }
   ],
   "source": [
    "# YOUR CODE HERE: Add a BatchNormalization layer before each Dense layer\n",
    "model = keras.Sequential([\n",
    "    layers.BatchNormalization(input_shape=input_shape),\n",
    "    layers.Dense(512, activation='relu'),\n",
    "    layers.BatchNormalization(),\n",
    "    layers.Dense(512, activation='relu'),\n",
    "    layers.BatchNormalization(),\n",
    "    layers.Dense(512, activation='relu'),\n",
    "    layers.BatchNormalization(),\n",
    "    layers.Dense(1),\n",
    "])\n",
    "\n",
    "# Check your answer\n",
    "q_3.check()"
   ]
  },
  {
   "cell_type": "code",
   "execution_count": 10,
   "id": "84718dc7",
   "metadata": {
    "execution": {
     "iopub.execute_input": "2024-03-13T08:52:44.000788Z",
     "iopub.status.busy": "2024-03-13T08:52:44.000490Z",
     "iopub.status.idle": "2024-03-13T08:52:44.003984Z",
     "shell.execute_reply": "2024-03-13T08:52:44.003160Z"
    },
    "papermill": {
     "duration": 0.014507,
     "end_time": "2024-03-13T08:52:44.005911",
     "exception": false,
     "start_time": "2024-03-13T08:52:43.991404",
     "status": "completed"
    },
    "tags": []
   },
   "outputs": [],
   "source": [
    "# Lines below will give you a hint or solution code\n",
    "#q_3.hint()\n",
    "#q_3.solution()"
   ]
  },
  {
   "cell_type": "markdown",
   "id": "33c824bc",
   "metadata": {
    "papermill": {
     "duration": 0.00852,
     "end_time": "2024-03-13T08:52:44.022590",
     "exception": false,
     "start_time": "2024-03-13T08:52:44.014070",
     "status": "completed"
    },
    "tags": []
   },
   "source": [
    "Run the next cell to see if batch normalization will let us train the model."
   ]
  },
  {
   "cell_type": "code",
   "execution_count": 11,
   "id": "900b4add",
   "metadata": {
    "execution": {
     "iopub.execute_input": "2024-03-13T08:52:44.039904Z",
     "iopub.status.busy": "2024-03-13T08:52:44.039637Z",
     "iopub.status.idle": "2024-03-13T08:52:55.016413Z",
     "shell.execute_reply": "2024-03-13T08:52:55.015482Z"
    },
    "papermill": {
     "duration": 10.987722,
     "end_time": "2024-03-13T08:52:55.018452",
     "exception": false,
     "start_time": "2024-03-13T08:52:44.030730",
     "status": "completed"
    },
    "tags": []
   },
   "outputs": [
    {
     "name": "stdout",
     "output_type": "stream",
     "text": [
      "Minimum Validation Loss: 3.9989\n"
     ]
    },
    {
     "data": {
      "image/png": "[encoded data removed]",
      "text/plain": [
       "<Figure size 640x480 with 1 Axes>"
      ]
     },
     "metadata": {},
     "output_type": "display_data"
    }
   ],
   "source": [
    "model.compile(\n",
    "    optimizer='sgd',\n",
    "    loss='mae',\n",
    "    metrics=['mae'],\n",
    ")\n",
    "EPOCHS = 100\n",
    "history = model.fit(\n",
    "    X_train, y_train,\n",
    "    validation_data=(X_valid, y_valid),\n",
    "    batch_size=64,\n",
    "    epochs=EPOCHS,\n",
    "    verbose=0,\n",
    ")\n",
    "\n",
    "history_df = pd.DataFrame(history.history)\n",
    "history_df.loc[0:, ['loss', 'val_loss']].plot()\n",
    "print((\"Minimum Validation Loss: {:0.4f}\").format(history_df['val_loss'].min()))"
   ]
  },
  {
   "cell_type": "markdown",
   "id": "acd48b53",
   "metadata": {
    "papermill": {
     "duration": 0.008509,
     "end_time": "2024-03-13T08:52:55.036073",
     "exception": false,
     "start_time": "2024-03-13T08:52:55.027564",
     "status": "completed"
    },
    "tags": []
   },
   "source": [
    "# 4) Evaluate Batch Normalization\n",
    "\n",
    "Did adding batch normalization help?"
   ]
  },
  {
   "cell_type": "code",
   "execution_count": 12,
   "id": "da9cfc6a",
   "metadata": {
    "execution": {
     "iopub.execute_input": "2024-03-13T08:52:55.054765Z",
     "iopub.status.busy": "2024-03-13T08:52:55.054158Z",
     "iopub.status.idle": "2024-03-13T08:52:55.061473Z",
     "shell.execute_reply": "2024-03-13T08:52:55.060467Z"
    },
    "lines_to_next_cell": 0,
    "papermill": {
     "duration": 0.020677,
     "end_time": "2024-03-13T08:52:55.065341",
     "exception": false,
     "start_time": "2024-03-13T08:52:55.044664",
     "status": "completed"
    },
    "tags": []
   },
   "outputs": [
    {
     "data": {
      "application/javascript": [
       "parent.postMessage({\"jupyterEvent\": \"custom.exercise_interaction\", \"data\": {\"outcomeType\": 1, \"valueTowardsCompletion\": 0.25, \"interactionType\": 1, \"questionType\": 4, \"questionId\": \"4_Q4\", \"learnToolsVersion\": \"0.3.4\", \"failureMessage\": \"\", \"exceptionClass\": \"\", \"trace\": \"\"}}, \"*\")"
      ],
      "text/plain": [
       "<IPython.core.display.Javascript object>"
      ]
     },
     "metadata": {},
     "output_type": "display_data"
    },
    {
     "data": {
      "text/markdown": [
       "<span style=\"color:#33cc33\">Correct:</span> \n",
       "\n",
       "\n",
       "You can see that adding batch normalization was a big improvement on the first attempt! By adaptively scaling the data as it passes through the network, batch normalization can let you train models on difficult datasets.\n"
      ],
      "text/plain": [
       "Correct: \n",
       "\n",
       "\n",
       "You can see that adding batch normalization was a big improvement on the first attempt! By adaptively scaling the data as it passes through the network, batch normalization can let you train models on difficult datasets."
      ]
     },
     "metadata": {},
     "output_type": "display_data"
    }
   ],
   "source": [
    "# View the solution (Run this cell to receive credit!)\n",
    "q_4.check()"
   ]
  },
  {
   "cell_type": "markdown",
   "id": "29bfc46d",
   "metadata": {
    "papermill": {
     "duration": 0.009097,
     "end_time": "2024-03-13T08:52:55.083770",
     "exception": false,
     "start_time": "2024-03-13T08:52:55.074673",
     "status": "completed"
    },
    "tags": []
   },
   "source": [
    "# Keep Going #\n",
    "\n",
    "[**Create neural networks**](https://www.kaggle.com/ryanholbrook/binary-classification) for binary classification."
   ]
  },
  {
   "cell_type": "markdown",
   "id": "9a531e95",
   "metadata": {
    "papermill": {
     "duration": 0.009006,
     "end_time": "2024-03-13T08:52:55.102354",
     "exception": false,
     "start_time": "2024-03-13T08:52:55.093348",
     "status": "completed"
    },
    "tags": []
   },
   "source": [
    "---\n",
    "\n",
    "\n",
    "\n",
    "\n",
    "*Have questions or comments? Visit the [course discussion forum](https://www.kaggle.com/learn/intro-to-deep-learning/discussion) to chat with other learners.*"
   ]
  }
 ],
 "metadata": {
  "jupytext": {
   "cell_metadata_filter": "-all",
   "formats": "ipynb"
  },
  "kaggle": {
   "accelerator": "gpu",
   "dataSources": [
    {
     "datasetId": 829369,
     "sourceId": 1480608,
     "sourceType": "datasetVersion"
    }
   ],
   "dockerImageVersionId": 30648,
   "isGpuEnabled": true,
   "isInternetEnabled": false,
   "language": "python",
   "sourceType": "notebook"
  },
  "kernelspec": {
   "display_name": "Python 3",
   "language": "python",
   "name": "python3"
  },
  "language_info": {
   "codemirror_mode": {
    "name": "ipython",
    "version": 3
   },
   "file_extension": ".py",
   "mimetype": "text/x-python",
   "name": "python",
   "nbconvert_exporter": "python",
   "pygments_lexer": "ipython3",
   "version": "3.10.13"
  },
  "papermill": {
   "default_parameters": {},
   "duration": 49.883959,
   "end_time": "2024-03-13T08:52:57.035548",
   "environment_variables": {},
   "exception": null,
   "input_path": "__notebook__.ipynb",
   "output_path": "__notebook__.ipynb",
   "parameters": {},
   "start_time": "2024-03-13T08:52:07.151589",
   "version": "2.5.0"
  }
 },
 "nbformat": 4,
 "nbformat_minor": 5
}
