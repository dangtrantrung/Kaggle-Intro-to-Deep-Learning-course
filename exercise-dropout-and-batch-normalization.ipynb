{
 "cells": [
  {
   "cell_type": "markdown",
   "id": "8e0633db",
   "metadata": {
    "papermill": {
     "duration": 0.007129,
     "end_time": "2024-03-13T08:46:55.471208",
     "exception": false,
     "start_time": "2024-03-13T08:46:55.464079",
     "status": "completed"
    },
    "tags": []
   },
   "source": [
    "**This notebook is an exercise in the [Intro to Deep Learning](https://www.kaggle.com/learn/intro-to-deep-learning) course.  You can reference the tutorial at [this link](https://www.kaggle.com/ryanholbrook/dropout-and-batch-normalization).**\n",
    "\n",
    "---\n"
   ]
  },
  {
   "cell_type": "markdown",
   "id": "aa358fb4",
   "metadata": {
    "papermill": {
     "duration": 0.005846,
     "end_time": "2024-03-13T08:46:55.483305",
     "exception": false,
     "start_time": "2024-03-13T08:46:55.477459",
     "status": "completed"
    },
    "tags": []
   },
   "source": [
    "# Introduction #\n",
    "\n",
    "In this exercise, you'll add dropout to the *Spotify* model from Exercise 4 and see how batch normalization can let you successfully train models on difficult datasets.\n",
    "\n",
    "Run the next cell to get started!"
   ]
  },
  {
   "cell_type": "code",
   "execution_count": 1,
   "id": "b00022a0",
   "metadata": {
    "execution": {
     "iopub.execute_input": "2024-03-13T08:46:55.496466Z",
     "iopub.status.busy": "2024-03-13T08:46:55.496118Z",
     "iopub.status.idle": "2024-03-13T08:46:56.252896Z",
     "shell.execute_reply": "2024-03-13T08:46:56.252084Z"
    },
    "papermill": {
     "duration": 0.766086,
     "end_time": "2024-03-13T08:46:56.255247",
     "exception": false,
     "start_time": "2024-03-13T08:46:55.489161",
     "status": "completed"
    },
    "tags": []
   },
   "outputs": [
    {
     "name": "stderr",
     "output_type": "stream",
     "text": [
      "/tmp/ipykernel_26/195640296.py:3: MatplotlibDeprecationWarning: The seaborn styles shipped by Matplotlib are deprecated since 3.6, as they no longer correspond to the styles shipped by seaborn. However, they will remain available as 'seaborn-v0_8-<style>'. Alternatively, directly use the seaborn API instead.\n",
      "  plt.style.use('seaborn-whitegrid')\n"
     ]
    }
   ],
   "source": [
    "# Setup plotting\n",
    "import matplotlib.pyplot as plt\n",
    "plt.style.use('seaborn-whitegrid')\n",
    "# Set Matplotlib defaults\n",
    "plt.rc('figure', autolayout=True)\n",
    "plt.rc('axes', labelweight='bold', labelsize='large',\n",
    "       titleweight='bold', titlesize=18, titlepad=10)\n",
    "plt.rc('animation', html='html5')\n",
    "\n",
    "# Setup feedback system\n",
    "from learntools.core import binder\n",
    "binder.bind(globals())\n",
    "from learntools.deep_learning_intro.ex5 import *"
   ]
  },
  {
   "cell_type": "markdown",
   "id": "436b6fd2",
   "metadata": {
    "papermill": {
     "duration": 0.005981,
     "end_time": "2024-03-13T08:46:56.267769",
     "exception": false,
     "start_time": "2024-03-13T08:46:56.261788",
     "status": "completed"
    },
    "tags": []
   },
   "source": [
    "First load the *Spotify* dataset."
   ]
  },
  {
   "cell_type": "code",
   "execution_count": 2,
   "id": "6bae6e54",
   "metadata": {
    "execution": {
     "iopub.execute_input": "2024-03-13T08:46:56.280751Z",
     "iopub.status.busy": "2024-03-13T08:46:56.280329Z",
     "iopub.status.idle": "2024-03-13T08:47:10.221356Z",
     "shell.execute_reply": "2024-03-13T08:47:10.220243Z"
    },
    "papermill": {
     "duration": 13.950147,
     "end_time": "2024-03-13T08:47:10.223706",
     "exception": false,
     "start_time": "2024-03-13T08:46:56.273559",
     "status": "completed"
    },
    "tags": []
   },
   "outputs": [
    {
     "name": "stderr",
     "output_type": "stream",
     "text": [
      "2024-03-13 08:46:59.195975: E external/local_xla/xla/stream_executor/cuda/cuda_dnn.cc:9261] Unable to register cuDNN factory: Attempting to register factory for plugin cuDNN when one has already been registered\n",
      "2024-03-13 08:46:59.196080: E external/local_xla/xla/stream_executor/cuda/cuda_fft.cc:607] Unable to register cuFFT factory: Attempting to register factory for plugin cuFFT when one has already been registered\n",
      "2024-03-13 08:46:59.329247: E external/local_xla/xla/stream_executor/cuda/cuda_blas.cc:1515] Unable to register cuBLAS factory: Attempting to register factory for plugin cuBLAS when one has already been registered\n"
     ]
    },
    {
     "name": "stdout",
     "output_type": "stream",
     "text": [
      "Input shape: [18]\n"
     ]
    }
   ],
   "source": [
    "import pandas as pd\n",
    "from sklearn.preprocessing import StandardScaler, OneHotEncoder\n",
    "from sklearn.compose import make_column_transformer\n",
    "from sklearn.model_selection import GroupShuffleSplit\n",
    "\n",
    "from tensorflow import keras\n",
    "from tensorflow.keras import layers\n",
    "from tensorflow.keras import callbacks\n",
    "\n",
    "spotify = pd.read_csv('../input/dl-course-data/spotify.csv')\n",
    "\n",
    "X = spotify.copy().dropna()\n",
    "y = X.pop('track_popularity')\n",
    "artists = X['track_artist']\n",
    "\n",
    "features_num = ['danceability', 'energy', 'key', 'loudness', 'mode',\n",
    "                'speechiness', 'acousticness', 'instrumentalness',\n",
    "                'liveness', 'valence', 'tempo', 'duration_ms']\n",
    "features_cat = ['playlist_genre']\n",
    "\n",
    "preprocessor = make_column_transformer(\n",
    "    (StandardScaler(), features_num),\n",
    "    (OneHotEncoder(), features_cat),\n",
    ")\n",
    "\n",
    "def group_split(X, y, group, train_size=0.75):\n",
    "    splitter = GroupShuffleSplit(train_size=train_size)\n",
    "    train, test = next(splitter.split(X, y, groups=group))\n",
    "    return (X.iloc[train], X.iloc[test], y.iloc[train], y.iloc[test])\n",
    "\n",
    "X_train, X_valid, y_train, y_valid = group_split(X, y, artists)\n",
    "\n",
    "X_train = preprocessor.fit_transform(X_train)\n",
    "X_valid = preprocessor.transform(X_valid)\n",
    "y_train = y_train / 100\n",
    "y_valid = y_valid / 100\n",
    "\n",
    "input_shape = [X_train.shape[1]]\n",
    "print(\"Input shape: {}\".format(input_shape))"
   ]
  },
  {
   "cell_type": "markdown",
   "id": "cbbad2b5",
   "metadata": {
    "papermill": {
     "duration": 0.006335,
     "end_time": "2024-03-13T08:47:10.238493",
     "exception": false,
     "start_time": "2024-03-13T08:47:10.232158",
     "status": "completed"
    },
    "tags": []
   },
   "source": [
    "# 1) Add Dropout to Spotify Model\n",
    "\n",
    "Here is the last model from Exercise 4. Add two dropout layers, one after the `Dense` layer with 128 units, and one after the `Dense` layer with 64 units. Set the dropout rate on both to `0.3`."
   ]
  },
  {
   "cell_type": "code",
   "execution_count": 3,
   "id": "2ce80150",
   "metadata": {
    "execution": {
     "iopub.execute_input": "2024-03-13T08:47:10.252262Z",
     "iopub.status.busy": "2024-03-13T08:47:10.251945Z",
     "iopub.status.idle": "2024-03-13T08:47:10.995091Z",
     "shell.execute_reply": "2024-03-13T08:47:10.994162Z"
    },
    "lines_to_next_cell": 2,
    "papermill": {
     "duration": 0.752523,
     "end_time": "2024-03-13T08:47:10.997239",
     "exception": false,
     "start_time": "2024-03-13T08:47:10.244716",
     "status": "completed"
    },
    "tags": []
   },
   "outputs": [
    {
     "data": {
      "application/javascript": [
       "parent.postMessage({\"jupyterEvent\": \"custom.exercise_interaction\", \"data\": {\"outcomeType\": 1, \"valueTowardsCompletion\": 0.25, \"interactionType\": 1, \"questionType\": 2, \"questionId\": \"1_Q1\", \"learnToolsVersion\": \"0.3.4\", \"failureMessage\": \"\", \"exceptionClass\": \"\", \"trace\": \"\"}}, \"*\")"
      ],
      "text/plain": [
       "<IPython.core.display.Javascript object>"
      ]
     },
     "metadata": {},
     "output_type": "display_data"
    },
    {
     "data": {
      "text/markdown": [
       "<span style=\"color:#33cc33\">Correct</span>"
      ],
      "text/plain": [
       "Correct"
      ]
     },
     "metadata": {},
     "output_type": "display_data"
    }
   ],
   "source": [
    "# YOUR CODE HERE: Add two 30% dropout layers, one after 128 and one after 64\n",
    "model = keras.Sequential([\n",
    "    layers.Dense(128, activation='relu', input_shape=input_shape),\n",
    "    layers.Dropout(rate=0.3),\n",
    "    layers.Dense(64, activation='relu'),\n",
    "    layers.Dropout(rate=0.3),\n",
    "    layers.Dense(1)\n",
    "])\n",
    "\n",
    "# Check your answer\n",
    "q_1.check()"
   ]
  },
  {
   "cell_type": "code",
   "execution_count": 4,
   "id": "e08d83ca",
   "metadata": {
    "execution": {
     "iopub.execute_input": "2024-03-13T08:47:11.011115Z",
     "iopub.status.busy": "2024-03-13T08:47:11.010824Z",
     "iopub.status.idle": "2024-03-13T08:47:11.014516Z",
     "shell.execute_reply": "2024-03-13T08:47:11.013630Z"
    },
    "papermill": {
     "duration": 0.01274,
     "end_time": "2024-03-13T08:47:11.016368",
     "exception": false,
     "start_time": "2024-03-13T08:47:11.003628",
     "status": "completed"
    },
    "tags": []
   },
   "outputs": [],
   "source": [
    "# Lines below will give you a hint or solution code\n",
    "#q_1.hint()\n",
    "#q_1.solution()"
   ]
  },
  {
   "cell_type": "markdown",
   "id": "2378788a",
   "metadata": {
    "papermill": {
     "duration": 0.006182,
     "end_time": "2024-03-13T08:47:11.028934",
     "exception": false,
     "start_time": "2024-03-13T08:47:11.022752",
     "status": "completed"
    },
    "tags": []
   },
   "source": [
    "Now run this next cell to train the model see the effect of adding dropout."
   ]
  },
  {
   "cell_type": "code",
   "execution_count": 5,
   "id": "fff868c0",
   "metadata": {
    "execution": {
     "iopub.execute_input": "2024-03-13T08:47:11.043309Z",
     "iopub.status.busy": "2024-03-13T08:47:11.043058Z",
     "iopub.status.idle": "2024-03-13T08:47:22.748528Z",
     "shell.execute_reply": "2024-03-13T08:47:22.747599Z"
    },
    "papermill": {
     "duration": 11.715689,
     "end_time": "2024-03-13T08:47:22.750863",
     "exception": false,
     "start_time": "2024-03-13T08:47:11.035174",
     "status": "completed"
    },
    "tags": []
   },
   "outputs": [
    {
     "name": "stderr",
     "output_type": "stream",
     "text": [
      "WARNING: All log messages before absl::InitializeLog() is called are written to STDERR\n",
      "I0000 00:00:1710319633.529316      68 device_compiler.h:186] Compiled cluster using XLA!  This line is logged at most once for the lifetime of the process.\n"
     ]
    },
    {
     "name": "stdout",
     "output_type": "stream",
     "text": [
      "Minimum Validation Loss: 0.1927\n"
     ]
    },
    {
     "data": {
      "image/png": "[encoded data removed]",
      "text/plain": [
       "<Figure size 640x480 with 1 Axes>"
      ]
     },
     "metadata": {},
     "output_type": "display_data"
    }
   ],
   "source": [
    "model.compile(\n",
    "    optimizer='adam',\n",
    "    loss='mae',\n",
    ")\n",
    "history = model.fit(\n",
    "    X_train, y_train,\n",
    "    validation_data=(X_valid, y_valid),\n",
    "    batch_size=512,\n",
    "    epochs=50,\n",
    "    verbose=0,\n",
    ")\n",
    "history_df = pd.DataFrame(history.history)\n",
    "history_df.loc[:, ['loss', 'val_loss']].plot()\n",
    "print(\"Minimum Validation Loss: {:0.4f}\".format(history_df['val_loss'].min()))"
   ]
  },
  {
   "cell_type": "markdown",
   "id": "d63afa5b",
   "metadata": {
    "papermill": {
     "duration": 0.006657,
     "end_time": "2024-03-13T08:47:22.764763",
     "exception": false,
     "start_time": "2024-03-13T08:47:22.758106",
     "status": "completed"
    },
    "tags": []
   },
   "source": [
    "# 2) Evaluate Dropout\n",
    "\n",
    "Recall from Exercise 4 that this model tended to overfit the data around epoch 5. Did adding dropout seem to help prevent overfitting this time?"
   ]
  },
  {
   "cell_type": "code",
   "execution_count": 6,
   "id": "580e3e36",
   "metadata": {
    "execution": {
     "iopub.execute_input": "2024-03-13T08:47:22.780239Z",
     "iopub.status.busy": "2024-03-13T08:47:22.779909Z",
     "iopub.status.idle": "2024-03-13T08:47:22.787244Z",
     "shell.execute_reply": "2024-03-13T08:47:22.786451Z"
    },
    "papermill": {
     "duration": 0.017308,
     "end_time": "2024-03-13T08:47:22.789145",
     "exception": false,
     "start_time": "2024-03-13T08:47:22.771837",
     "status": "completed"
    },
    "tags": []
   },
   "outputs": [
    {
     "data": {
      "application/javascript": [
       "parent.postMessage({\"jupyterEvent\": \"custom.exercise_interaction\", \"data\": {\"outcomeType\": 1, \"valueTowardsCompletion\": 0.25, \"interactionType\": 1, \"questionType\": 4, \"questionId\": \"2_Q2\", \"learnToolsVersion\": \"0.3.4\", \"failureMessage\": \"\", \"exceptionClass\": \"\", \"trace\": \"\"}}, \"*\")"
      ],
      "text/plain": [
       "<IPython.core.display.Javascript object>"
      ]
     },
     "metadata": {},
     "output_type": "display_data"
    },
    {
     "data": {
      "text/markdown": [
       "<span style=\"color:#33cc33\">Correct:</span> \n",
       "\n",
       "\n",
       "From the learning curves, you can see that the validation loss remains near a constant minimum even though the training loss continues to decrease. So we can see that adding dropout did prevent overfitting this time. Moreover, by making it harder for the network to fit spurious patterns, dropout may have encouraged the network to seek out more of the true patterns, possibly improving the validation loss some as well).\n"
      ],
      "text/plain": [
       "Correct: \n",
       "\n",
       "\n",
       "From the learning curves, you can see that the validation loss remains near a constant minimum even though the training loss continues to decrease. So we can see that adding dropout did prevent overfitting this time. Moreover, by making it harder for the network to fit spurious patterns, dropout may have encouraged the network to seek out more of the true patterns, possibly improving the validation loss some as well)."
      ]
     },
     "metadata": {},
     "output_type": "display_data"
    }
   ],
   "source": [
    "# View the solution (Run this cell to receive credit!)\n",
    "q_2.check()"
   ]
  },
  {
   "cell_type": "markdown",
   "id": "fb0e66f9",
   "metadata": {
    "papermill": {
     "duration": 0.006927,
     "end_time": "2024-03-13T08:47:22.803340",
     "exception": false,
     "start_time": "2024-03-13T08:47:22.796413",
     "status": "completed"
    },
    "tags": []
   },
   "source": [
    "Now, we'll switch topics to explore how batch normalization can fix problems in training.\n",
    "\n",
    "Load the *Concrete* dataset. We won't do any standardization this time. This will make the effect of batch normalization much more apparent."
   ]
  },
  {
   "cell_type": "code",
   "execution_count": 7,
   "id": "1b785b13",
   "metadata": {
    "execution": {
     "iopub.execute_input": "2024-03-13T08:47:22.819570Z",
     "iopub.status.busy": "2024-03-13T08:47:22.818926Z",
     "iopub.status.idle": "2024-03-13T08:47:22.837727Z",
     "shell.execute_reply": "2024-03-13T08:47:22.836900Z"
    },
    "papermill": {
     "duration": 0.028916,
     "end_time": "2024-03-13T08:47:22.839583",
     "exception": false,
     "start_time": "2024-03-13T08:47:22.810667",
     "status": "completed"
    },
    "tags": []
   },
   "outputs": [],
   "source": [
    "import pandas as pd\n",
    "\n",
    "concrete = pd.read_csv('../input/dl-course-data/concrete.csv')\n",
    "df = concrete.copy()\n",
    "\n",
    "df_train = df.sample(frac=0.7, random_state=0)\n",
    "df_valid = df.drop(df_train.index)\n",
    "\n",
    "X_train = df_train.drop('CompressiveStrength', axis=1)\n",
    "X_valid = df_valid.drop('CompressiveStrength', axis=1)\n",
    "y_train = df_train['CompressiveStrength']\n",
    "y_valid = df_valid['CompressiveStrength']\n",
    "\n",
    "input_shape = [X_train.shape[1]]"
   ]
  },
  {
   "cell_type": "markdown",
   "id": "e38af416",
   "metadata": {
    "papermill": {
     "duration": 0.007078,
     "end_time": "2024-03-13T08:47:22.853995",
     "exception": false,
     "start_time": "2024-03-13T08:47:22.846917",
     "status": "completed"
    },
    "tags": []
   },
   "source": [
    "Run the following cell to train the network on the unstandardized *Concrete* data."
   ]
  },
  {
   "cell_type": "code",
   "execution_count": 8,
   "id": "e51807ff",
   "metadata": {
    "execution": {
     "iopub.execute_input": "2024-03-13T08:47:22.870113Z",
     "iopub.status.busy": "2024-03-13T08:47:22.869737Z",
     "iopub.status.idle": "2024-03-13T08:47:30.273482Z",
     "shell.execute_reply": "2024-03-13T08:47:30.272572Z"
    },
    "papermill": {
     "duration": 7.41459,
     "end_time": "2024-03-13T08:47:30.275894",
     "exception": false,
     "start_time": "2024-03-13T08:47:22.861304",
     "status": "completed"
    },
    "tags": []
   },
   "outputs": [
    {
     "name": "stdout",
     "output_type": "stream",
     "text": [
      "Minimum Validation Loss: nan\n"
     ]
    },
    {
     "data": {
      "image/png": "[encoded data removed]",
      "text/plain": [
       "<Figure size 640x480 with 1 Axes>"
      ]
     },
     "metadata": {},
     "output_type": "display_data"
    }
   ],
   "source": [
    "model = keras.Sequential([\n",
    "    layers.Dense(512, activation='relu', input_shape=input_shape),\n",
    "    layers.Dense(512, activation='relu'),    \n",
    "    layers.Dense(512, activation='relu'),\n",
    "    layers.Dense(1),\n",
    "])\n",
    "model.compile(\n",
    "    optimizer='sgd', # SGD is more sensitive to differences of scale\n",
    "    loss='mae',\n",
    "    metrics=['mae'],\n",
    ")\n",
    "history = model.fit(\n",
    "    X_train, y_train,\n",
    "    validation_data=(X_valid, y_valid),\n",
    "    batch_size=64,\n",
    "    epochs=100,\n",
    "    verbose=0,\n",
    ")\n",
    "\n",
    "history_df = pd.DataFrame(history.history)\n",
    "history_df.loc[0:, ['loss', 'val_loss']].plot()\n",
    "print((\"Minimum Validation Loss: {:0.4f}\").format(history_df['val_loss'].min()))"
   ]
  },
  {
   "cell_type": "markdown",
   "id": "f7f95bf1",
   "metadata": {
    "papermill": {
     "duration": 0.008657,
     "end_time": "2024-03-13T08:47:30.295757",
     "exception": false,
     "start_time": "2024-03-13T08:47:30.287100",
     "status": "completed"
    },
    "tags": []
   },
   "source": [
    "Did you end up with a blank graph? Trying to train this network on this dataset will usually fail. Even when it does converge (due to a lucky weight initialization), it tends to converge to a very large number.\n",
    "\n",
    "# 3) Add Batch Normalization Layers\n",
    "\n",
    "Batch normalization can help correct problems like this.\n",
    "\n",
    "Add four `BatchNormalization` layers, one before each of the dense layers. (Remember to move the `input_shape` argument to the new first layer.)"
   ]
  },
  {
   "cell_type": "code",
   "execution_count": 9,
   "id": "30eea421",
   "metadata": {
    "execution": {
     "iopub.execute_input": "2024-03-13T08:47:30.312516Z",
     "iopub.status.busy": "2024-03-13T08:47:30.312113Z",
     "iopub.status.idle": "2024-03-13T08:47:30.367443Z",
     "shell.execute_reply": "2024-03-13T08:47:30.366470Z"
    },
    "lines_to_next_cell": 0,
    "papermill": {
     "duration": 0.065956,
     "end_time": "2024-03-13T08:47:30.369455",
     "exception": false,
     "start_time": "2024-03-13T08:47:30.303499",
     "status": "completed"
    },
    "tags": []
   },
   "outputs": [
    {
     "data": {
      "application/javascript": [
       "parent.postMessage({\"jupyterEvent\": \"custom.exercise_interaction\", \"data\": {\"outcomeType\": 2, \"failureMessage\": \"Your model doesn't have the correct kinds of layers. You should have eight layers with classes: ['BatchNormalization', 'Dense', 'BatchNormalization', 'Dense', 'BatchNormalization', 'Dense', 'BatchNormalization', 'Dense'].\", \"interactionType\": 1, \"questionType\": 2, \"questionId\": \"3_Q3\", \"learnToolsVersion\": \"0.3.4\", \"valueTowardsCompletion\": 0.0, \"exceptionClass\": \"\", \"trace\": \"\"}}, \"*\")"
      ],
      "text/plain": [
       "<IPython.core.display.Javascript object>"
      ]
     },
     "metadata": {},
     "output_type": "display_data"
    },
    {
     "data": {
      "text/markdown": [
       "<span style=\"color:#cc3333\">Incorrect:</span> Your model doesn't have the correct kinds of layers. You should have eight layers with classes: ['BatchNormalization', 'Dense', 'BatchNormalization', 'Dense', 'BatchNormalization', 'Dense', 'BatchNormalization', 'Dense']."
      ],
      "text/plain": [
       "Incorrect: Your model doesn't have the correct kinds of layers. You should have eight layers with classes: ['BatchNormalization', 'Dense', 'BatchNormalization', 'Dense', 'BatchNormalization', 'Dense', 'BatchNormalization', 'Dense']."
      ]
     },
     "metadata": {},
     "output_type": "display_data"
    }
   ],
   "source": [
    "# YOUR CODE HERE: Add a BatchNormalization layer before each Dense layer\n",
    "model = keras.Sequential([\n",
    "    layers.Dense(512, activation='relu', input_shape=input_shape),\n",
    "    layers.Dense(512, activation='relu'),\n",
    "    layers.Dense(512, activation='relu'),\n",
    "    layers.Dense(1),\n",
    "])\n",
    "\n",
    "# Check your answer\n",
    "q_3.check()"
   ]
  },
  {
   "cell_type": "code",
   "execution_count": 10,
   "id": "5efde330",
   "metadata": {
    "execution": {
     "iopub.execute_input": "2024-03-13T08:47:30.387135Z",
     "iopub.status.busy": "2024-03-13T08:47:30.386855Z",
     "iopub.status.idle": "2024-03-13T08:47:30.390887Z",
     "shell.execute_reply": "2024-03-13T08:47:30.389972Z"
    },
    "papermill": {
     "duration": 0.014946,
     "end_time": "2024-03-13T08:47:30.392714",
     "exception": false,
     "start_time": "2024-03-13T08:47:30.377768",
     "status": "completed"
    },
    "tags": []
   },
   "outputs": [],
   "source": [
    "# Lines below will give you a hint or solution code\n",
    "#q_3.hint()\n",
    "#q_3.solution()"
   ]
  },
  {
   "cell_type": "markdown",
   "id": "11afdc08",
   "metadata": {
    "papermill": {
     "duration": 0.007701,
     "end_time": "2024-03-13T08:47:30.408438",
     "exception": false,
     "start_time": "2024-03-13T08:47:30.400737",
     "status": "completed"
    },
    "tags": []
   },
   "source": [
    "Run the next cell to see if batch normalization will let us train the model."
   ]
  },
  {
   "cell_type": "code",
   "execution_count": 11,
   "id": "373b701b",
   "metadata": {
    "execution": {
     "iopub.execute_input": "2024-03-13T08:47:30.425418Z",
     "iopub.status.busy": "2024-03-13T08:47:30.425130Z",
     "iopub.status.idle": "2024-03-13T08:47:37.501856Z",
     "shell.execute_reply": "2024-03-13T08:47:37.500958Z"
    },
    "papermill": {
     "duration": 7.08749,
     "end_time": "2024-03-13T08:47:37.503819",
     "exception": false,
     "start_time": "2024-03-13T08:47:30.416329",
     "status": "completed"
    },
    "tags": []
   },
   "outputs": [
    {
     "name": "stdout",
     "output_type": "stream",
     "text": [
      "Minimum Validation Loss: nan\n"
     ]
    },
    {
     "data": {
      "image/png": "[encoded data removed]",
      "text/plain": [
       "<Figure size 640x480 with 1 Axes>"
      ]
     },
     "metadata": {},
     "output_type": "display_data"
    }
   ],
   "source": [
    "model.compile(\n",
    "    optimizer='sgd',\n",
    "    loss='mae',\n",
    "    metrics=['mae'],\n",
    ")\n",
    "EPOCHS = 100\n",
    "history = model.fit(\n",
    "    X_train, y_train,\n",
    "    validation_data=(X_valid, y_valid),\n",
    "    batch_size=64,\n",
    "    epochs=EPOCHS,\n",
    "    verbose=0,\n",
    ")\n",
    "\n",
    "history_df = pd.DataFrame(history.history)\n",
    "history_df.loc[0:, ['loss', 'val_loss']].plot()\n",
    "print((\"Minimum Validation Loss: {:0.4f}\").format(history_df['val_loss'].min()))"
   ]
  },
  {
   "cell_type": "markdown",
   "id": "a3d912e5",
   "metadata": {
    "papermill": {
     "duration": 0.008205,
     "end_time": "2024-03-13T08:47:37.520724",
     "exception": false,
     "start_time": "2024-03-13T08:47:37.512519",
     "status": "completed"
    },
    "tags": []
   },
   "source": [
    "# 4) Evaluate Batch Normalization\n",
    "\n",
    "Did adding batch normalization help?"
   ]
  },
  {
   "cell_type": "code",
   "execution_count": 12,
   "id": "1545721b",
   "metadata": {
    "execution": {
     "iopub.execute_input": "2024-03-13T08:47:37.539195Z",
     "iopub.status.busy": "2024-03-13T08:47:37.538872Z",
     "iopub.status.idle": "2024-03-13T08:47:37.546114Z",
     "shell.execute_reply": "2024-03-13T08:47:37.545274Z"
    },
    "lines_to_next_cell": 0,
    "papermill": {
     "duration": 0.0189,
     "end_time": "2024-03-13T08:47:37.548014",
     "exception": false,
     "start_time": "2024-03-13T08:47:37.529114",
     "status": "completed"
    },
    "tags": []
   },
   "outputs": [
    {
     "data": {
      "application/javascript": [
       "parent.postMessage({\"jupyterEvent\": \"custom.exercise_interaction\", \"data\": {\"outcomeType\": 1, \"valueTowardsCompletion\": 0.25, \"interactionType\": 1, \"questionType\": 4, \"questionId\": \"4_Q4\", \"learnToolsVersion\": \"0.3.4\", \"failureMessage\": \"\", \"exceptionClass\": \"\", \"trace\": \"\"}}, \"*\")"
      ],
      "text/plain": [
       "<IPython.core.display.Javascript object>"
      ]
     },
     "metadata": {},
     "output_type": "display_data"
    },
    {
     "data": {
      "text/markdown": [
       "<span style=\"color:#33cc33\">Correct:</span> \n",
       "\n",
       "\n",
       "You can see that adding batch normalization was a big improvement on the first attempt! By adaptively scaling the data as it passes through the network, batch normalization can let you train models on difficult datasets.\n"
      ],
      "text/plain": [
       "Correct: \n",
       "\n",
       "\n",
       "You can see that adding batch normalization was a big improvement on the first attempt! By adaptively scaling the data as it passes through the network, batch normalization can let you train models on difficult datasets."
      ]
     },
     "metadata": {},
     "output_type": "display_data"
    }
   ],
   "source": [
    "# View the solution (Run this cell to receive credit!)\n",
    "q_4.check()"
   ]
  },
  {
   "cell_type": "markdown",
   "id": "80783a92",
   "metadata": {
    "papermill": {
     "duration": 0.00839,
     "end_time": "2024-03-13T08:47:37.565250",
     "exception": false,
     "start_time": "2024-03-13T08:47:37.556860",
     "status": "completed"
    },
    "tags": []
   },
   "source": [
    "# Keep Going #\n",
    "\n",
    "[**Create neural networks**](https://www.kaggle.com/ryanholbrook/binary-classification) for binary classification."
   ]
  },
  {
   "cell_type": "markdown",
   "id": "9f556fd4",
   "metadata": {
    "papermill": {
     "duration": 0.008647,
     "end_time": "2024-03-13T08:47:37.582577",
     "exception": false,
     "start_time": "2024-03-13T08:47:37.573930",
     "status": "completed"
    },
    "tags": []
   },
   "source": [
    "---\n",
    "\n",
    "\n",
    "\n",
    "\n",
    "*Have questions or comments? Visit the [course discussion forum](https://www.kaggle.com/learn/intro-to-deep-learning/discussion) to chat with other learners.*"
   ]
  }
 ],
 "metadata": {
  "jupytext": {
   "cell_metadata_filter": "-all",
   "formats": "ipynb"
  },
  "kaggle": {
   "accelerator": "gpu",
   "dataSources": [
    {
     "datasetId": 829369,
     "sourceId": 1480608,
     "sourceType": "datasetVersion"
    }
   ],
   "dockerImageVersionId": 30648,
   "isGpuEnabled": true,
   "isInternetEnabled": false,
   "language": "python",
   "sourceType": "notebook"
  },
  "kernelspec": {
   "display_name": "Python 3",
   "language": "python",
   "name": "python3"
  },
  "language_info": {
   "codemirror_mode": {
    "name": "ipython",
    "version": 3
   },
   "file_extension": ".py",
   "mimetype": "text/x-python",
   "name": "python",
   "nbconvert_exporter": "python",
   "pygments_lexer": "ipython3",
   "version": "3.10.13"
  },
  "papermill": {
   "default_parameters": {},
   "duration": 47.172023,
   "end_time": "2024-03-13T08:47:39.891527",
   "environment_variables": {},
   "exception": null,
   "input_path": "__notebook__.ipynb",
   "output_path": "__notebook__.ipynb",
   "parameters": {},
   "start_time": "2024-03-13T08:46:52.719504",
   "version": "2.5.0"
  }
 },
 "nbformat": 4,
 "nbformat_minor": 5
}
