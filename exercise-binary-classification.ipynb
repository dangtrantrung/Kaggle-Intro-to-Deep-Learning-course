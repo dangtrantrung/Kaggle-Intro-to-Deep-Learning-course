{
 "cells": [
  {
   "cell_type": "markdown",
   "id": "af1f746c",
   "metadata": {
    "papermill": {
     "duration": 0.005511,
     "end_time": "2024-03-13T09:15:56.667227",
     "exception": false,
     "start_time": "2024-03-13T09:15:56.661716",
     "status": "completed"
    },
    "tags": []
   },
   "source": [
    "**This notebook is an exercise in the [Intro to Deep Learning](https://www.kaggle.com/learn/intro-to-deep-learning) course.  You can reference the tutorial at [this link](https://www.kaggle.com/ryanholbrook/binary-classification).**\n",
    "\n",
    "---\n"
   ]
  },
  {
   "cell_type": "markdown",
   "id": "243f6d71",
   "metadata": {
    "papermill": {
     "duration": 0.004669,
     "end_time": "2024-03-13T09:15:56.677173",
     "exception": false,
     "start_time": "2024-03-13T09:15:56.672504",
     "status": "completed"
    },
    "tags": []
   },
   "source": [
    "# Introduction #\n",
    "\n",
    "In this exercise, you'll build a model to predict hotel cancellations with a binary classifier."
   ]
  },
  {
   "cell_type": "code",
   "execution_count": 1,
   "id": "26f1b9dd",
   "metadata": {
    "execution": {
     "iopub.execute_input": "2024-03-13T09:15:56.688731Z",
     "iopub.status.busy": "2024-03-13T09:15:56.688314Z",
     "iopub.status.idle": "2024-03-13T09:15:57.565991Z",
     "shell.execute_reply": "2024-03-13T09:15:57.565149Z"
    },
    "lines_to_next_cell": 0,
    "papermill": {
     "duration": 0.886449,
     "end_time": "2024-03-13T09:15:57.568561",
     "exception": false,
     "start_time": "2024-03-13T09:15:56.682112",
     "status": "completed"
    },
    "tags": []
   },
   "outputs": [
    {
     "name": "stderr",
     "output_type": "stream",
     "text": [
      "/tmp/ipykernel_27/3338970720.py:3: MatplotlibDeprecationWarning: The seaborn styles shipped by Matplotlib are deprecated since 3.6, as they no longer correspond to the styles shipped by seaborn. However, they will remain available as 'seaborn-v0_8-<style>'. Alternatively, directly use the seaborn API instead.\n",
      "  plt.style.use('seaborn-whitegrid')\n"
     ]
    }
   ],
   "source": [
    "# Setup plotting\n",
    "import matplotlib.pyplot as plt\n",
    "plt.style.use('seaborn-whitegrid')\n",
    "# Set Matplotlib defaults\n",
    "plt.rc('figure', autolayout=True)\n",
    "plt.rc('axes', labelweight='bold', labelsize='large',\n",
    "       titleweight='bold', titlesize=18, titlepad=10)\n",
    "plt.rc('animation', html='html5')\n",
    "\n",
    "# Setup feedback system\n",
    "from learntools.core import binder\n",
    "binder.bind(globals())\n",
    "from learntools.deep_learning_intro.ex6 import *"
   ]
  },
  {
   "cell_type": "markdown",
   "id": "b71da908",
   "metadata": {
    "papermill": {
     "duration": 0.004778,
     "end_time": "2024-03-13T09:15:57.578550",
     "exception": false,
     "start_time": "2024-03-13T09:15:57.573772",
     "status": "completed"
    },
    "tags": []
   },
   "source": [
    "First, load the *Hotel Cancellations* dataset."
   ]
  },
  {
   "cell_type": "code",
   "execution_count": 2,
   "id": "d58d7322",
   "metadata": {
    "execution": {
     "iopub.execute_input": "2024-03-13T09:15:57.590108Z",
     "iopub.status.busy": "2024-03-13T09:15:57.589639Z",
     "iopub.status.idle": "2024-03-13T09:16:00.628320Z",
     "shell.execute_reply": "2024-03-13T09:16:00.627367Z"
    },
    "lines_to_next_cell": 2,
    "papermill": {
     "duration": 3.047792,
     "end_time": "2024-03-13T09:16:00.631243",
     "exception": false,
     "start_time": "2024-03-13T09:15:57.583451",
     "status": "completed"
    },
    "tags": []
   },
   "outputs": [],
   "source": [
    "import pandas as pd\n",
    "\n",
    "from sklearn.model_selection import train_test_split\n",
    "from sklearn.preprocessing import StandardScaler, OneHotEncoder\n",
    "from sklearn.impute import SimpleImputer\n",
    "from sklearn.pipeline import make_pipeline\n",
    "from sklearn.compose import make_column_transformer\n",
    "\n",
    "hotel = pd.read_csv('../input/dl-course-data/hotel.csv')\n",
    "\n",
    "X = hotel.copy()\n",
    "y = X.pop('is_canceled')\n",
    "\n",
    "X['arrival_date_month'] = \\\n",
    "    X['arrival_date_month'].map(\n",
    "        {'January':1, 'February': 2, 'March':3,\n",
    "         'April':4, 'May':5, 'June':6, 'July':7,\n",
    "         'August':8, 'September':9, 'October':10,\n",
    "         'November':11, 'December':12}\n",
    "    )\n",
    "\n",
    "features_num = [\n",
    "    \"lead_time\", \"arrival_date_week_number\",\n",
    "    \"arrival_date_day_of_month\", \"stays_in_weekend_nights\",\n",
    "    \"stays_in_week_nights\", \"adults\", \"children\", \"babies\",\n",
    "    \"is_repeated_guest\", \"previous_cancellations\",\n",
    "    \"previous_bookings_not_canceled\", \"required_car_parking_spaces\",\n",
    "    \"total_of_special_requests\", \"adr\",\n",
    "]\n",
    "features_cat = [\n",
    "    \"hotel\", \"arrival_date_month\", \"meal\",\n",
    "    \"market_segment\", \"distribution_channel\",\n",
    "    \"reserved_room_type\", \"deposit_type\", \"customer_type\",\n",
    "]\n",
    "\n",
    "transformer_num = make_pipeline(\n",
    "    SimpleImputer(strategy=\"constant\"), # there are a few missing values\n",
    "    StandardScaler(),\n",
    ")\n",
    "transformer_cat = make_pipeline(\n",
    "    SimpleImputer(strategy=\"constant\", fill_value=\"NA\"),\n",
    "    OneHotEncoder(handle_unknown='ignore'),\n",
    ")\n",
    "\n",
    "preprocessor = make_column_transformer(\n",
    "    (transformer_num, features_num),\n",
    "    (transformer_cat, features_cat),\n",
    ")\n",
    "\n",
    "# stratify - make sure classes are evenlly represented across splits\n",
    "X_train, X_valid, y_train, y_valid = \\\n",
    "    train_test_split(X, y, stratify=y, train_size=0.75)\n",
    "\n",
    "X_train = preprocessor.fit_transform(X_train)\n",
    "X_valid = preprocessor.transform(X_valid)\n",
    "\n",
    "input_shape = [X_train.shape[1]]"
   ]
  },
  {
   "cell_type": "markdown",
   "id": "7c6c9551",
   "metadata": {
    "papermill": {
     "duration": 0.005148,
     "end_time": "2024-03-13T09:16:00.642515",
     "exception": false,
     "start_time": "2024-03-13T09:16:00.637367",
     "status": "completed"
    },
    "tags": []
   },
   "source": [
    "# 1) Define Model #\n",
    "\n",
    "The model we'll use this time will have both batch normalization and dropout layers. To ease reading we've broken the diagram into blocks, but you can define it layer by layer as usual.\n",
    "\n",
    "Define a model with an architecture given by this diagram:\n",
    "\n",
    "<figure style=\"padding: 1em;\">\n",
    "<img src=\"https://storage.googleapis.com/kaggle-media/learn/images/V04o59Z.png\" width=\"400\" alt=\"Diagram of network architecture: BatchNorm, Dense, BatchNorm, Dropout, Dense, BatchNorm, Dropout, Dense.\">\n",
    "<figcaption style=\"textalign: center; font-style: italic\"><center>Diagram of a binary classifier.</center></figcaption>\n",
    "</figure>\n"
   ]
  },
  {
   "cell_type": "code",
   "execution_count": 3,
   "id": "4c1a5f1f",
   "metadata": {
    "execution": {
     "iopub.execute_input": "2024-03-13T09:16:00.654045Z",
     "iopub.status.busy": "2024-03-13T09:16:00.653658Z",
     "iopub.status.idle": "2024-03-13T09:16:15.061597Z",
     "shell.execute_reply": "2024-03-13T09:16:15.060567Z"
    },
    "lines_to_next_cell": 2,
    "papermill": {
     "duration": 14.416368,
     "end_time": "2024-03-13T09:16:15.063830",
     "exception": false,
     "start_time": "2024-03-13T09:16:00.647462",
     "status": "completed"
    },
    "tags": []
   },
   "outputs": [
    {
     "name": "stderr",
     "output_type": "stream",
     "text": [
      "2024-03-13 09:16:02.681020: E external/local_xla/xla/stream_executor/cuda/cuda_dnn.cc:9261] Unable to register cuDNN factory: Attempting to register factory for plugin cuDNN when one has already been registered\n",
      "2024-03-13 09:16:02.681135: E external/local_xla/xla/stream_executor/cuda/cuda_fft.cc:607] Unable to register cuFFT factory: Attempting to register factory for plugin cuFFT when one has already been registered\n",
      "2024-03-13 09:16:02.860895: E external/local_xla/xla/stream_executor/cuda/cuda_blas.cc:1515] Unable to register cuBLAS factory: Attempting to register factory for plugin cuBLAS when one has already been registered\n"
     ]
    },
    {
     "data": {
      "application/javascript": [
       "parent.postMessage({\"jupyterEvent\": \"custom.exercise_interaction\", \"data\": {\"outcomeType\": 1, \"valueTowardsCompletion\": 0.3333333333333333, \"interactionType\": 1, \"questionType\": 2, \"questionId\": \"1_Q1\", \"learnToolsVersion\": \"0.3.4\", \"failureMessage\": \"\", \"exceptionClass\": \"\", \"trace\": \"\"}}, \"*\")"
      ],
      "text/plain": [
       "<IPython.core.display.Javascript object>"
      ]
     },
     "metadata": {},
     "output_type": "display_data"
    },
    {
     "data": {
      "text/markdown": [
       "<span style=\"color:#33cc33\">Correct</span>"
      ],
      "text/plain": [
       "Correct"
      ]
     },
     "metadata": {},
     "output_type": "display_data"
    }
   ],
   "source": [
    "from tensorflow import keras\n",
    "from tensorflow.keras import layers\n",
    "\n",
    "# YOUR CODE HERE: define the model given in the diagram\n",
    "model = keras.Sequential([\n",
    "    layers.BatchNormalization(input_shape=input_shape),\n",
    "    layers.Dense(256, activation='relu'),\n",
    "    layers.BatchNormalization(),\n",
    "    layers.Dropout(rate=0.3),\n",
    "    layers.Dense(256, activation='relu'),\n",
    "    layers.BatchNormalization(),\n",
    "    layers.Dropout(rate=0.3),\n",
    "    layers.Dense(1, activation='sigmoid'),\n",
    "])\n",
    "\n",
    "# Check your answer\n",
    "q_1.check()"
   ]
  },
  {
   "cell_type": "markdown",
   "id": "b5c6c32d",
   "metadata": {
    "papermill": {
     "duration": 0.004941,
     "end_time": "2024-03-13T09:16:15.073705",
     "exception": false,
     "start_time": "2024-03-13T09:16:15.068764",
     "status": "completed"
    },
    "tags": []
   },
   "source": [
    "# 2) Add Optimizer, Loss, and Metric #\n",
    "\n",
    "Now compile the model with the Adam optimizer and binary versions of the cross-entropy loss and accuracy metric."
   ]
  },
  {
   "cell_type": "code",
   "execution_count": 4,
   "id": "0f78b44d",
   "metadata": {
    "execution": {
     "iopub.execute_input": "2024-03-13T09:16:15.085149Z",
     "iopub.status.busy": "2024-03-13T09:16:15.084278Z",
     "iopub.status.idle": "2024-03-13T09:16:15.106669Z",
     "shell.execute_reply": "2024-03-13T09:16:15.105797Z"
    },
    "lines_to_next_cell": 0,
    "papermill": {
     "duration": 0.030302,
     "end_time": "2024-03-13T09:16:15.108742",
     "exception": false,
     "start_time": "2024-03-13T09:16:15.078440",
     "status": "completed"
    },
    "tags": []
   },
   "outputs": [
    {
     "data": {
      "application/javascript": [
       "parent.postMessage({\"jupyterEvent\": \"custom.exercise_interaction\", \"data\": {\"outcomeType\": 1, \"valueTowardsCompletion\": 0.3333333333333333, \"interactionType\": 1, \"questionType\": 2, \"questionId\": \"2_Q2\", \"learnToolsVersion\": \"0.3.4\", \"failureMessage\": \"\", \"exceptionClass\": \"\", \"trace\": \"\"}}, \"*\")"
      ],
      "text/plain": [
       "<IPython.core.display.Javascript object>"
      ]
     },
     "metadata": {},
     "output_type": "display_data"
    },
    {
     "data": {
      "text/markdown": [
       "<span style=\"color:#33cc33\">Correct</span>"
      ],
      "text/plain": [
       "Correct"
      ]
     },
     "metadata": {},
     "output_type": "display_data"
    }
   ],
   "source": [
    "# YOUR CODE HERE\n",
    "model.compile(\n",
    "    optimizer='adam',\n",
    "    loss='binary_crossentropy',\n",
    "    metrics=['binary_accuracy'],\n",
    ")\n",
    "\n",
    "# Check your answer\n",
    "q_2.check()"
   ]
  },
  {
   "cell_type": "code",
   "execution_count": 5,
   "id": "dad54f51",
   "metadata": {
    "execution": {
     "iopub.execute_input": "2024-03-13T09:16:15.121085Z",
     "iopub.status.busy": "2024-03-13T09:16:15.120691Z",
     "iopub.status.idle": "2024-03-13T09:16:15.125659Z",
     "shell.execute_reply": "2024-03-13T09:16:15.124119Z"
    },
    "lines_to_next_cell": 0,
    "papermill": {
     "duration": 0.015587,
     "end_time": "2024-03-13T09:16:15.129589",
     "exception": false,
     "start_time": "2024-03-13T09:16:15.114002",
     "status": "completed"
    },
    "tags": []
   },
   "outputs": [],
   "source": [
    "# Lines below will give you a hint or solution code\n",
    "#q_2.hint()\n",
    "#q_2.solution()"
   ]
  },
  {
   "cell_type": "markdown",
   "id": "fbb12be4",
   "metadata": {
    "papermill": {
     "duration": 0.009228,
     "end_time": "2024-03-13T09:16:15.147628",
     "exception": false,
     "start_time": "2024-03-13T09:16:15.138400",
     "status": "completed"
    },
    "tags": []
   },
   "source": [
    "Finally, run this cell to train the model and view the learning curves. It may run for around 60 to 70 epochs, which could take a minute or two."
   ]
  },
  {
   "cell_type": "code",
   "execution_count": 6,
   "id": "bf290fcc",
   "metadata": {
    "execution": {
     "iopub.execute_input": "2024-03-13T09:16:15.168861Z",
     "iopub.status.busy": "2024-03-13T09:16:15.168425Z",
     "iopub.status.idle": "2024-03-13T09:17:02.572190Z",
     "shell.execute_reply": "2024-03-13T09:17:02.571225Z"
    },
    "papermill": {
     "duration": 47.417482,
     "end_time": "2024-03-13T09:17:02.574789",
     "exception": false,
     "start_time": "2024-03-13T09:16:15.157307",
     "status": "completed"
    },
    "tags": []
   },
   "outputs": [
    {
     "name": "stdout",
     "output_type": "stream",
     "text": [
      "Epoch 1/200\n"
     ]
    },
    {
     "name": "stderr",
     "output_type": "stream",
     "text": [
      "WARNING: All log messages before absl::InitializeLog() is called are written to STDERR\n",
      "I0000 00:00:1710321379.810513      69 device_compiler.h:186] Compiled cluster using XLA!  This line is logged at most once for the lifetime of the process.\n"
     ]
    },
    {
     "name": "stdout",
     "output_type": "stream",
     "text": [
      "175/175 [==============================] - 7s 8ms/step - loss: 0.4878 - binary_accuracy: 0.7678 - val_loss: 0.4283 - val_binary_accuracy: 0.8036\n",
      "Epoch 2/200\n",
      "175/175 [==============================] - 1s 6ms/step - loss: 0.4246 - binary_accuracy: 0.8004 - val_loss: 0.4009 - val_binary_accuracy: 0.8199\n",
      "Epoch 3/200\n",
      "175/175 [==============================] - 1s 6ms/step - loss: 0.4115 - binary_accuracy: 0.8068 - val_loss: 0.3928 - val_binary_accuracy: 0.8212\n",
      "Epoch 4/200\n",
      "175/175 [==============================] - 1s 6ms/step - loss: 0.4024 - binary_accuracy: 0.8129 - val_loss: 0.3869 - val_binary_accuracy: 0.8208\n",
      "Epoch 5/200\n",
      "175/175 [==============================] - 1s 6ms/step - loss: 0.3983 - binary_accuracy: 0.8144 - val_loss: 0.3837 - val_binary_accuracy: 0.8239\n",
      "Epoch 6/200\n",
      "175/175 [==============================] - 1s 6ms/step - loss: 0.3932 - binary_accuracy: 0.8174 - val_loss: 0.3832 - val_binary_accuracy: 0.8261\n",
      "Epoch 7/200\n",
      "175/175 [==============================] - 1s 6ms/step - loss: 0.3890 - binary_accuracy: 0.8184 - val_loss: 0.3784 - val_binary_accuracy: 0.8275\n",
      "Epoch 8/200\n",
      "175/175 [==============================] - 1s 6ms/step - loss: 0.3865 - binary_accuracy: 0.8203 - val_loss: 0.3774 - val_binary_accuracy: 0.8284\n",
      "Epoch 9/200\n",
      "175/175 [==============================] - 1s 6ms/step - loss: 0.3826 - binary_accuracy: 0.8215 - val_loss: 0.3768 - val_binary_accuracy: 0.8277\n",
      "Epoch 10/200\n",
      "175/175 [==============================] - 1s 6ms/step - loss: 0.3797 - binary_accuracy: 0.8243 - val_loss: 0.3748 - val_binary_accuracy: 0.8291\n",
      "Epoch 11/200\n",
      "175/175 [==============================] - 1s 6ms/step - loss: 0.3774 - binary_accuracy: 0.8243 - val_loss: 0.3680 - val_binary_accuracy: 0.8315\n",
      "Epoch 12/200\n",
      "175/175 [==============================] - 1s 6ms/step - loss: 0.3740 - binary_accuracy: 0.8262 - val_loss: 0.3718 - val_binary_accuracy: 0.8278\n",
      "Epoch 13/200\n",
      "175/175 [==============================] - 1s 6ms/step - loss: 0.3723 - binary_accuracy: 0.8275 - val_loss: 0.3659 - val_binary_accuracy: 0.8299\n",
      "Epoch 14/200\n",
      "175/175 [==============================] - 1s 6ms/step - loss: 0.3703 - binary_accuracy: 0.8285 - val_loss: 0.3632 - val_binary_accuracy: 0.8344\n",
      "Epoch 15/200\n",
      "175/175 [==============================] - 1s 6ms/step - loss: 0.3686 - binary_accuracy: 0.8298 - val_loss: 0.3629 - val_binary_accuracy: 0.8334\n",
      "Epoch 16/200\n",
      "175/175 [==============================] - 1s 6ms/step - loss: 0.3674 - binary_accuracy: 0.8299 - val_loss: 0.3645 - val_binary_accuracy: 0.8320\n",
      "Epoch 17/200\n",
      "175/175 [==============================] - 1s 6ms/step - loss: 0.3660 - binary_accuracy: 0.8294 - val_loss: 0.3619 - val_binary_accuracy: 0.8321\n",
      "Epoch 18/200\n",
      "175/175 [==============================] - 1s 6ms/step - loss: 0.3658 - binary_accuracy: 0.8306 - val_loss: 0.3610 - val_binary_accuracy: 0.8347\n",
      "Epoch 19/200\n",
      "175/175 [==============================] - 1s 6ms/step - loss: 0.3628 - binary_accuracy: 0.8322 - val_loss: 0.3589 - val_binary_accuracy: 0.8340\n",
      "Epoch 20/200\n",
      "175/175 [==============================] - 1s 6ms/step - loss: 0.3612 - binary_accuracy: 0.8337 - val_loss: 0.3614 - val_binary_accuracy: 0.8330\n",
      "Epoch 21/200\n",
      "175/175 [==============================] - 1s 6ms/step - loss: 0.3599 - binary_accuracy: 0.8339 - val_loss: 0.3569 - val_binary_accuracy: 0.8353\n",
      "Epoch 22/200\n",
      "175/175 [==============================] - 1s 6ms/step - loss: 0.3584 - binary_accuracy: 0.8351 - val_loss: 0.3563 - val_binary_accuracy: 0.8375\n",
      "Epoch 23/200\n",
      "175/175 [==============================] - 1s 6ms/step - loss: 0.3575 - binary_accuracy: 0.8355 - val_loss: 0.3564 - val_binary_accuracy: 0.8372\n",
      "Epoch 24/200\n",
      "175/175 [==============================] - 1s 6ms/step - loss: 0.3556 - binary_accuracy: 0.8365 - val_loss: 0.3562 - val_binary_accuracy: 0.8346\n",
      "Epoch 25/200\n",
      "175/175 [==============================] - 1s 6ms/step - loss: 0.3559 - binary_accuracy: 0.8362 - val_loss: 0.3546 - val_binary_accuracy: 0.8374\n",
      "Epoch 26/200\n",
      "175/175 [==============================] - 1s 6ms/step - loss: 0.3539 - binary_accuracy: 0.8361 - val_loss: 0.3549 - val_binary_accuracy: 0.8381\n",
      "Epoch 27/200\n",
      "175/175 [==============================] - 1s 6ms/step - loss: 0.3532 - binary_accuracy: 0.8364 - val_loss: 0.3521 - val_binary_accuracy: 0.8396\n",
      "Epoch 28/200\n",
      "175/175 [==============================] - 1s 6ms/step - loss: 0.3506 - binary_accuracy: 0.8392 - val_loss: 0.3517 - val_binary_accuracy: 0.8403\n",
      "Epoch 29/200\n",
      "175/175 [==============================] - 1s 6ms/step - loss: 0.3513 - binary_accuracy: 0.8387 - val_loss: 0.3503 - val_binary_accuracy: 0.8407\n",
      "Epoch 30/200\n",
      "175/175 [==============================] - 1s 6ms/step - loss: 0.3498 - binary_accuracy: 0.8385 - val_loss: 0.3492 - val_binary_accuracy: 0.8392\n",
      "Epoch 31/200\n",
      "175/175 [==============================] - 1s 6ms/step - loss: 0.3483 - binary_accuracy: 0.8404 - val_loss: 0.3501 - val_binary_accuracy: 0.8397\n",
      "Epoch 32/200\n",
      "175/175 [==============================] - 1s 6ms/step - loss: 0.3486 - binary_accuracy: 0.8391 - val_loss: 0.3484 - val_binary_accuracy: 0.8395\n",
      "Epoch 33/200\n",
      "175/175 [==============================] - 1s 6ms/step - loss: 0.3463 - binary_accuracy: 0.8400 - val_loss: 0.3490 - val_binary_accuracy: 0.8409\n",
      "Epoch 34/200\n",
      "175/175 [==============================] - 1s 6ms/step - loss: 0.3454 - binary_accuracy: 0.8405 - val_loss: 0.3498 - val_binary_accuracy: 0.8403\n",
      "Epoch 35/200\n",
      "175/175 [==============================] - 1s 6ms/step - loss: 0.3440 - binary_accuracy: 0.8411 - val_loss: 0.3474 - val_binary_accuracy: 0.8399\n",
      "Epoch 36/200\n",
      "175/175 [==============================] - 1s 6ms/step - loss: 0.3440 - binary_accuracy: 0.8407 - val_loss: 0.3475 - val_binary_accuracy: 0.8404\n",
      "Epoch 37/200\n",
      "175/175 [==============================] - 1s 6ms/step - loss: 0.3438 - binary_accuracy: 0.8417 - val_loss: 0.3464 - val_binary_accuracy: 0.8416\n",
      "Epoch 38/200\n",
      "175/175 [==============================] - 1s 6ms/step - loss: 0.3428 - binary_accuracy: 0.8416 - val_loss: 0.3498 - val_binary_accuracy: 0.8407\n",
      "Epoch 39/200\n",
      "175/175 [==============================] - 1s 6ms/step - loss: 0.3424 - binary_accuracy: 0.8426 - val_loss: 0.3482 - val_binary_accuracy: 0.8420\n",
      "Epoch 40/200\n",
      "175/175 [==============================] - 1s 6ms/step - loss: 0.3411 - binary_accuracy: 0.8431 - val_loss: 0.3465 - val_binary_accuracy: 0.8402\n"
     ]
    },
    {
     "data": {
      "text/plain": [
       "<Axes: title={'center': 'Accuracy'}>"
      ]
     },
     "execution_count": 6,
     "metadata": {},
     "output_type": "execute_result"
    },
    {
     "data": {
      "image/png": "[encoded data removed]",
      "text/plain": [
       "<Figure size 640x480 with 1 Axes>"
      ]
     },
     "metadata": {},
     "output_type": "display_data"
    },
    {
     "data": {
      "image/png": "[encoded data removed]",
      "text/plain": [
       "<Figure size 640x480 with 1 Axes>"
      ]
     },
     "metadata": {},
     "output_type": "display_data"
    }
   ],
   "source": [
    "early_stopping = keras.callbacks.EarlyStopping(\n",
    "    patience=5,\n",
    "    min_delta=0.001,\n",
    "    restore_best_weights=True,\n",
    ")\n",
    "history = model.fit(\n",
    "    X_train, y_train,\n",
    "    validation_data=(X_valid, y_valid),\n",
    "    batch_size=512,\n",
    "    epochs=200,\n",
    "    callbacks=[early_stopping],\n",
    ")\n",
    "\n",
    "history_df = pd.DataFrame(history.history)\n",
    "history_df.loc[:, ['loss', 'val_loss']].plot(title=\"Cross-entropy\")\n",
    "history_df.loc[:, ['binary_accuracy', 'val_binary_accuracy']].plot(title=\"Accuracy\")"
   ]
  },
  {
   "cell_type": "markdown",
   "id": "b73d1709",
   "metadata": {
    "papermill": {
     "duration": 0.074761,
     "end_time": "2024-03-13T09:17:02.726125",
     "exception": false,
     "start_time": "2024-03-13T09:17:02.651364",
     "status": "completed"
    },
    "tags": []
   },
   "source": [
    "# 3) Train and Evaluate #\n",
    "\n",
    "\n",
    "What do you think about the learning curves? Does it look like the model underfit or overfit? Was the cross-entropy loss a good stand-in for accuracy?"
   ]
  },
  {
   "cell_type": "code",
   "execution_count": 7,
   "id": "e9d1fa84",
   "metadata": {
    "execution": {
     "iopub.execute_input": "2024-03-13T09:17:02.877290Z",
     "iopub.status.busy": "2024-03-13T09:17:02.876374Z",
     "iopub.status.idle": "2024-03-13T09:17:02.884719Z",
     "shell.execute_reply": "2024-03-13T09:17:02.883734Z"
    },
    "papermill": {
     "duration": 0.086199,
     "end_time": "2024-03-13T09:17:02.887036",
     "exception": false,
     "start_time": "2024-03-13T09:17:02.800837",
     "status": "completed"
    },
    "tags": []
   },
   "outputs": [
    {
     "data": {
      "application/javascript": [
       "parent.postMessage({\"jupyterEvent\": \"custom.exercise_interaction\", \"data\": {\"outcomeType\": 1, \"valueTowardsCompletion\": 0.3333333333333333, \"interactionType\": 1, \"questionType\": 4, \"questionId\": \"3_Q3\", \"learnToolsVersion\": \"0.3.4\", \"failureMessage\": \"\", \"exceptionClass\": \"\", \"trace\": \"\"}}, \"*\")"
      ],
      "text/plain": [
       "<IPython.core.display.Javascript object>"
      ]
     },
     "metadata": {},
     "output_type": "display_data"
    },
    {
     "data": {
      "text/markdown": [
       "<span style=\"color:#33cc33\">Correct:</span> \n",
       "\n",
       "Though we can see the training loss continuing to fall, the early stopping callback prevented any overfitting. Moreover, the accuracy rose at the same rate as the cross-entropy fell, so it appears that minimizing cross-entropy was a good stand-in. All in all, it looks like this training was a success!"
      ],
      "text/plain": [
       "Correct: \n",
       "\n",
       "Though we can see the training loss continuing to fall, the early stopping callback prevented any overfitting. Moreover, the accuracy rose at the same rate as the cross-entropy fell, so it appears that minimizing cross-entropy was a good stand-in. All in all, it looks like this training was a success!"
      ]
     },
     "metadata": {},
     "output_type": "display_data"
    }
   ],
   "source": [
    "# View the solution (Run this cell to receive credit!)\n",
    "q_3.check()"
   ]
  },
  {
   "cell_type": "markdown",
   "id": "27b29791",
   "metadata": {
    "papermill": {
     "duration": 0.070146,
     "end_time": "2024-03-13T09:17:03.031713",
     "exception": false,
     "start_time": "2024-03-13T09:17:02.961567",
     "status": "completed"
    },
    "tags": []
   },
   "source": [
    "# Conclusion #\n",
    "\n",
    "Congratulations! You've completed Kaggle's *Introduction to Deep Learning* course!\n",
    "\n",
    "With your new skills you're ready to take on more advanced applications like computer vision and sentiment classification. What would you like to do next?\n",
    "\n",
    "Why not try one of our *Getting Started* competitions?\n",
    "\n",
    "- Classify images with TPUs in [**Petals to the Metal**](https://www.kaggle.com/c/tpu-getting-started)\n",
    "- Create art with GANs in [**I'm Something of a Painter Myself**](https://www.kaggle.com/c/gan-getting-started)\n",
    "- Classify Tweets in [**Real or Not? NLP with Disaster Tweets**](https://www.kaggle.com/c/nlp-getting-started)\n",
    "- Detect contradiction and entailment in [**Contradictory, My Dear Watson**](https://www.kaggle.com/c/contradictory-my-dear-watson)\n",
    "\n",
    "Until next time, Kagglers!"
   ]
  },
  {
   "cell_type": "markdown",
   "id": "ebae2f51",
   "metadata": {
    "papermill": {
     "duration": 0.071232,
     "end_time": "2024-03-13T09:17:03.176266",
     "exception": false,
     "start_time": "2024-03-13T09:17:03.105034",
     "status": "completed"
    },
    "tags": []
   },
   "source": [
    "---\n",
    "\n",
    "\n",
    "\n",
    "\n",
    "*Have questions or comments? Visit the [course discussion forum](https://www.kaggle.com/learn/intro-to-deep-learning/discussion) to chat with other learners.*"
   ]
  }
 ],
 "metadata": {
  "jupytext": {
   "cell_metadata_filter": "-all",
   "formats": "ipynb"
  },
  "kaggle": {
   "accelerator": "gpu",
   "dataSources": [
    {
     "datasetId": 829369,
     "sourceId": 1480608,
     "sourceType": "datasetVersion"
    }
   ],
   "dockerImageVersionId": 30648,
   "isGpuEnabled": true,
   "isInternetEnabled": false,
   "language": "python",
   "sourceType": "notebook"
  },
  "kernelspec": {
   "display_name": "Python 3",
   "language": "python",
   "name": "python3"
  },
  "language_info": {
   "codemirror_mode": {
    "name": "ipython",
    "version": 3
   },
   "file_extension": ".py",
   "mimetype": "text/x-python",
   "name": "python",
   "nbconvert_exporter": "python",
   "pygments_lexer": "ipython3",
   "version": "3.10.13"
  },
  "papermill": {
   "default_parameters": {},
   "duration": 72.43013,
   "end_time": "2024-03-13T09:17:05.930860",
   "environment_variables": {},
   "exception": null,
   "input_path": "__notebook__.ipynb",
   "output_path": "__notebook__.ipynb",
   "parameters": {},
   "start_time": "2024-03-13T09:15:53.500730",
   "version": "2.5.0"
  }
 },
 "nbformat": 4,
 "nbformat_minor": 5
}
