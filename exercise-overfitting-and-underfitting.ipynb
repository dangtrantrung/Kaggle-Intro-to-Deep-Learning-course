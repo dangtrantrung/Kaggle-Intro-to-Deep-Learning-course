{
 "cells": [
  {
   "cell_type": "markdown",
   "id": "53933c5c",
   "metadata": {
    "papermill": {
     "duration": 0.006526,
     "end_time": "2024-03-08T09:01:12.375282",
     "exception": false,
     "start_time": "2024-03-08T09:01:12.368756",
     "status": "completed"
    },
    "tags": []
   },
   "source": [
    "**This notebook is an exercise in the [Intro to Deep Learning](https://www.kaggle.com/learn/intro-to-deep-learning) course.  You can reference the tutorial at [this link](https://www.kaggle.com/ryanholbrook/overfitting-and-underfitting).**\n",
    "\n",
    "---\n"
   ]
  },
  {
   "cell_type": "markdown",
   "id": "9b0b57ac",
   "metadata": {
    "papermill": {
     "duration": 0.005636,
     "end_time": "2024-03-08T09:01:12.387037",
     "exception": false,
     "start_time": "2024-03-08T09:01:12.381401",
     "status": "completed"
    },
    "tags": []
   },
   "source": [
    "# Introduction #\n",
    "\n",
    "In this exercise, you’ll learn how to improve training outcomes by including an early stopping callback to prevent overfitting.\n",
    "\n",
    "When you're ready, run this next cell to set everything up!"
   ]
  },
  {
   "cell_type": "code",
   "execution_count": 1,
   "id": "3f7e0b5e",
   "metadata": {
    "execution": {
     "iopub.execute_input": "2024-03-08T09:01:12.400858Z",
     "iopub.status.busy": "2024-03-08T09:01:12.400159Z",
     "iopub.status.idle": "2024-03-08T09:01:13.166385Z",
     "shell.execute_reply": "2024-03-08T09:01:13.165395Z"
    },
    "papermill": {
     "duration": 0.775948,
     "end_time": "2024-03-08T09:01:13.168871",
     "exception": false,
     "start_time": "2024-03-08T09:01:12.392923",
     "status": "completed"
    },
    "tags": []
   },
   "outputs": [
    {
     "name": "stderr",
     "output_type": "stream",
     "text": [
      "/tmp/ipykernel_25/1500229236.py:3: MatplotlibDeprecationWarning: The seaborn styles shipped by Matplotlib are deprecated since 3.6, as they no longer correspond to the styles shipped by seaborn. However, they will remain available as 'seaborn-v0_8-<style>'. Alternatively, directly use the seaborn API instead.\n",
      "  plt.style.use('seaborn-whitegrid')\n"
     ]
    }
   ],
   "source": [
    "# Setup plotting\n",
    "import matplotlib.pyplot as plt\n",
    "plt.style.use('seaborn-whitegrid')\n",
    "# Set Matplotlib defaults\n",
    "plt.rc('figure', autolayout=True)\n",
    "plt.rc('axes', labelweight='bold', labelsize='large',\n",
    "       titleweight='bold', titlesize=18, titlepad=10)\n",
    "plt.rc('animation', html='html5')\n",
    "\n",
    "# Setup feedback system\n",
    "from learntools.core import binder\n",
    "binder.bind(globals())\n",
    "from learntools.deep_learning_intro.ex4 import *"
   ]
  },
  {
   "cell_type": "markdown",
   "id": "0ddfcde3",
   "metadata": {
    "papermill": {
     "duration": 0.006077,
     "end_time": "2024-03-08T09:01:13.181274",
     "exception": false,
     "start_time": "2024-03-08T09:01:13.175197",
     "status": "completed"
    },
    "tags": []
   },
   "source": [
    "First load the *Spotify* dataset. Your task will be to predict the popularity of a song based on various audio features, like `'tempo'`, `'danceability'`, and `'mode'`."
   ]
  },
  {
   "cell_type": "code",
   "execution_count": 2,
   "id": "f8206526",
   "metadata": {
    "execution": {
     "iopub.execute_input": "2024-03-08T09:01:13.195027Z",
     "iopub.status.busy": "2024-03-08T09:01:13.194312Z",
     "iopub.status.idle": "2024-03-08T09:01:27.180820Z",
     "shell.execute_reply": "2024-03-08T09:01:27.179465Z"
    },
    "papermill": {
     "duration": 13.995846,
     "end_time": "2024-03-08T09:01:27.183093",
     "exception": false,
     "start_time": "2024-03-08T09:01:13.187247",
     "status": "completed"
    },
    "tags": []
   },
   "outputs": [
    {
     "name": "stderr",
     "output_type": "stream",
     "text": [
      "2024-03-08 09:01:16.053871: E external/local_xla/xla/stream_executor/cuda/cuda_dnn.cc:9261] Unable to register cuDNN factory: Attempting to register factory for plugin cuDNN when one has already been registered\n",
      "2024-03-08 09:01:16.053975: E external/local_xla/xla/stream_executor/cuda/cuda_fft.cc:607] Unable to register cuFFT factory: Attempting to register factory for plugin cuFFT when one has already been registered\n",
      "2024-03-08 09:01:16.190329: E external/local_xla/xla/stream_executor/cuda/cuda_blas.cc:1515] Unable to register cuBLAS factory: Attempting to register factory for plugin cuBLAS when one has already been registered\n"
     ]
    },
    {
     "name": "stdout",
     "output_type": "stream",
     "text": [
      "Input shape: [18]\n"
     ]
    }
   ],
   "source": [
    "import pandas as pd\n",
    "from sklearn.preprocessing import StandardScaler, OneHotEncoder\n",
    "from sklearn.compose import make_column_transformer\n",
    "from sklearn.model_selection import GroupShuffleSplit\n",
    "\n",
    "from tensorflow import keras\n",
    "from tensorflow.keras import layers\n",
    "from tensorflow.keras import callbacks\n",
    "\n",
    "spotify = pd.read_csv('../input/dl-course-data/spotify.csv')\n",
    "\n",
    "X = spotify.copy().dropna()\n",
    "y = X.pop('track_popularity')\n",
    "artists = X['track_artist']\n",
    "\n",
    "features_num = ['danceability', 'energy', 'key', 'loudness', 'mode',\n",
    "                'speechiness', 'acousticness', 'instrumentalness',\n",
    "                'liveness', 'valence', 'tempo', 'duration_ms']\n",
    "features_cat = ['playlist_genre']\n",
    "\n",
    "preprocessor = make_column_transformer(\n",
    "    (StandardScaler(), features_num),\n",
    "    (OneHotEncoder(), features_cat),\n",
    ")\n",
    "\n",
    "# We'll do a \"grouped\" split to keep all of an artist's songs in one\n",
    "# split or the other. This is to help prevent signal leakage.\n",
    "def group_split(X, y, group, train_size=0.75):\n",
    "    splitter = GroupShuffleSplit(train_size=train_size)\n",
    "    train, test = next(splitter.split(X, y, groups=group))\n",
    "    return (X.iloc[train], X.iloc[test], y.iloc[train], y.iloc[test])\n",
    "\n",
    "X_train, X_valid, y_train, y_valid = group_split(X, y, artists)\n",
    "\n",
    "X_train = preprocessor.fit_transform(X_train)\n",
    "X_valid = preprocessor.transform(X_valid)\n",
    "y_train = y_train / 100 # popularity is on a scale 0-100, so this rescales to 0-1.\n",
    "y_valid = y_valid / 100\n",
    "\n",
    "input_shape = [X_train.shape[1]]\n",
    "print(\"Input shape: {}\".format(input_shape))"
   ]
  },
  {
   "cell_type": "markdown",
   "id": "6800f54a",
   "metadata": {
    "papermill": {
     "duration": 0.006286,
     "end_time": "2024-03-08T09:01:27.196192",
     "exception": false,
     "start_time": "2024-03-08T09:01:27.189906",
     "status": "completed"
    },
    "tags": []
   },
   "source": [
    "Let's start with the simplest network, a linear model. This model has low capacity.\n",
    "\n",
    "Run this next cell without any changes to train a linear model on the *Spotify* dataset."
   ]
  },
  {
   "cell_type": "code",
   "execution_count": 3,
   "id": "9998b9b5",
   "metadata": {
    "execution": {
     "iopub.execute_input": "2024-03-08T09:01:27.211434Z",
     "iopub.status.busy": "2024-03-08T09:01:27.210570Z",
     "iopub.status.idle": "2024-03-08T09:01:36.351319Z",
     "shell.execute_reply": "2024-03-08T09:01:36.350244Z"
    },
    "lines_to_next_cell": 0,
    "papermill": {
     "duration": 9.15061,
     "end_time": "2024-03-08T09:01:36.353524",
     "exception": false,
     "start_time": "2024-03-08T09:01:27.202914",
     "status": "completed"
    },
    "tags": []
   },
   "outputs": [
    {
     "name": "stderr",
     "output_type": "stream",
     "text": [
      "WARNING: All log messages before absl::InitializeLog() is called are written to STDERR\n",
      "I0000 00:00:1709888489.199803      66 device_compiler.h:186] Compiled cluster using XLA!  This line is logged at most once for the lifetime of the process.\n"
     ]
    },
    {
     "name": "stdout",
     "output_type": "stream",
     "text": [
      "Minimum Validation Loss: 0.1900\n"
     ]
    },
    {
     "data": {
      "image/png": "[encoded data removed]",
      "text/plain": [
       "<Figure size 640x480 with 1 Axes>"
      ]
     },
     "metadata": {},
     "output_type": "display_data"
    }
   ],
   "source": [
    "model = keras.Sequential([\n",
    "    layers.Dense(1, input_shape=input_shape),\n",
    "])\n",
    "model.compile(\n",
    "    optimizer='adam',\n",
    "    loss='mae',\n",
    ")\n",
    "history = model.fit(\n",
    "    X_train, y_train,\n",
    "    validation_data=(X_valid, y_valid),\n",
    "    batch_size=512,\n",
    "    epochs=50,\n",
    "    verbose=0, # suppress output since we'll plot the curves\n",
    ")\n",
    "history_df = pd.DataFrame(history.history)\n",
    "history_df.loc[0:, ['loss', 'val_loss']].plot()\n",
    "print(\"Minimum Validation Loss: {:0.4f}\".format(history_df['val_loss'].min()));"
   ]
  },
  {
   "cell_type": "markdown",
   "id": "830c8e43",
   "metadata": {
    "papermill": {
     "duration": 0.006595,
     "end_time": "2024-03-08T09:01:36.366976",
     "exception": false,
     "start_time": "2024-03-08T09:01:36.360381",
     "status": "completed"
    },
    "tags": []
   },
   "source": [
    "It's not uncommon for the curves to follow a \"hockey stick\" pattern like you see here. This makes the final part of training hard to see, so let's start at epoch 10 instead:"
   ]
  },
  {
   "cell_type": "code",
   "execution_count": 4,
   "id": "49c1624b",
   "metadata": {
    "execution": {
     "iopub.execute_input": "2024-03-08T09:01:36.381593Z",
     "iopub.status.busy": "2024-03-08T09:01:36.381276Z",
     "iopub.status.idle": "2024-03-08T09:01:36.730537Z",
     "shell.execute_reply": "2024-03-08T09:01:36.729643Z"
    },
    "papermill": {
     "duration": 0.358872,
     "end_time": "2024-03-08T09:01:36.732478",
     "exception": false,
     "start_time": "2024-03-08T09:01:36.373606",
     "status": "completed"
    },
    "tags": []
   },
   "outputs": [
    {
     "name": "stdout",
     "output_type": "stream",
     "text": [
      "Minimum Validation Loss: 0.1900\n"
     ]
    },
    {
     "data": {
      "image/png": "[encoded data removed]",
      "text/plain": [
       "<Figure size 640x480 with 1 Axes>"
      ]
     },
     "metadata": {},
     "output_type": "display_data"
    }
   ],
   "source": [
    "# Start the plot at epoch 10\n",
    "history_df.loc[10:, ['loss', 'val_loss']].plot()\n",
    "print(\"Minimum Validation Loss: {:0.4f}\".format(history_df['val_loss'].min()));"
   ]
  },
  {
   "cell_type": "markdown",
   "id": "906588b9",
   "metadata": {
    "papermill": {
     "duration": 0.009373,
     "end_time": "2024-03-08T09:01:36.749341",
     "exception": false,
     "start_time": "2024-03-08T09:01:36.739968",
     "status": "completed"
    },
    "tags": []
   },
   "source": [
    "# 1) Evaluate Baseline\n",
    "\n",
    "What do you think? Would you say this model is underfitting, overfitting, just right?"
   ]
  },
  {
   "cell_type": "code",
   "execution_count": 5,
   "id": "e294d9d3",
   "metadata": {
    "execution": {
     "iopub.execute_input": "2024-03-08T09:01:36.765693Z",
     "iopub.status.busy": "2024-03-08T09:01:36.765026Z",
     "iopub.status.idle": "2024-03-08T09:01:36.772281Z",
     "shell.execute_reply": "2024-03-08T09:01:36.771430Z"
    },
    "papermill": {
     "duration": 0.017413,
     "end_time": "2024-03-08T09:01:36.774111",
     "exception": false,
     "start_time": "2024-03-08T09:01:36.756698",
     "status": "completed"
    },
    "tags": []
   },
   "outputs": [
    {
     "data": {
      "application/javascript": [
       "parent.postMessage({\"jupyterEvent\": \"custom.exercise_interaction\", \"data\": {\"outcomeType\": 1, \"valueTowardsCompletion\": 0.25, \"interactionType\": 1, \"questionType\": 4, \"questionId\": \"1_Q1\", \"learnToolsVersion\": \"0.3.4\", \"failureMessage\": \"\", \"exceptionClass\": \"\", \"trace\": \"\"}}, \"*\")"
      ],
      "text/plain": [
       "<IPython.core.display.Javascript object>"
      ]
     },
     "metadata": {},
     "output_type": "display_data"
    },
    {
     "data": {
      "text/markdown": [
       "<span style=\"color:#33cc33\">Correct:</span> \n",
       "\n",
       "The gap between these curves is quite small and the validation loss never increases, so it's more likely that the network is underfitting than overfitting. It would be worth experimenting with more capacity to see if that's the case."
      ],
      "text/plain": [
       "Correct: \n",
       "\n",
       "The gap between these curves is quite small and the validation loss never increases, so it's more likely that the network is underfitting than overfitting. It would be worth experimenting with more capacity to see if that's the case."
      ]
     },
     "metadata": {},
     "output_type": "display_data"
    }
   ],
   "source": [
    "# View the solution (Run this cell to receive credit!)\n",
    "q_1.check()"
   ]
  },
  {
   "cell_type": "markdown",
   "id": "d18962ca",
   "metadata": {
    "papermill": {
     "duration": 0.01029,
     "end_time": "2024-03-08T09:01:36.793657",
     "exception": false,
     "start_time": "2024-03-08T09:01:36.783367",
     "status": "completed"
    },
    "tags": []
   },
   "source": [
    "Now let's add some capacity to our network. We'll add three hidden layers with 128 units each. Run the next cell to train the network and see the learning curves."
   ]
  },
  {
   "cell_type": "code",
   "execution_count": 6,
   "id": "74f5ecf2",
   "metadata": {
    "execution": {
     "iopub.execute_input": "2024-03-08T09:01:36.816770Z",
     "iopub.status.busy": "2024-03-08T09:01:36.816378Z",
     "iopub.status.idle": "2024-03-08T09:01:47.390391Z",
     "shell.execute_reply": "2024-03-08T09:01:47.389523Z"
    },
    "papermill": {
     "duration": 10.588583,
     "end_time": "2024-03-08T09:01:47.392535",
     "exception": false,
     "start_time": "2024-03-08T09:01:36.803952",
     "status": "completed"
    },
    "tags": []
   },
   "outputs": [
    {
     "name": "stdout",
     "output_type": "stream",
     "text": [
      "Epoch 1/50\n",
      "50/50 [==============================] - 2s 6ms/step - loss: 0.2705 - val_loss: 0.2026\n",
      "Epoch 2/50\n",
      "50/50 [==============================] - 0s 3ms/step - loss: 0.2047 - val_loss: 0.1959\n",
      "Epoch 3/50\n",
      "50/50 [==============================] - 0s 3ms/step - loss: 0.1995 - val_loss: 0.1937\n",
      "Epoch 4/50\n",
      "50/50 [==============================] - 0s 3ms/step - loss: 0.1969 - val_loss: 0.1916\n",
      "Epoch 5/50\n",
      "50/50 [==============================] - 0s 4ms/step - loss: 0.1945 - val_loss: 0.1917\n",
      "Epoch 6/50\n",
      "50/50 [==============================] - 0s 4ms/step - loss: 0.1923 - val_loss: 0.1908\n",
      "Epoch 7/50\n",
      "50/50 [==============================] - 0s 3ms/step - loss: 0.1910 - val_loss: 0.1907\n",
      "Epoch 8/50\n",
      "50/50 [==============================] - 0s 3ms/step - loss: 0.1899 - val_loss: 0.1898\n",
      "Epoch 9/50\n",
      "50/50 [==============================] - 0s 3ms/step - loss: 0.1898 - val_loss: 0.1906\n",
      "Epoch 10/50\n",
      "50/50 [==============================] - 0s 3ms/step - loss: 0.1884 - val_loss: 0.1919\n",
      "Epoch 11/50\n",
      "50/50 [==============================] - 0s 3ms/step - loss: 0.1879 - val_loss: 0.1910\n",
      "Epoch 12/50\n",
      "50/50 [==============================] - 0s 3ms/step - loss: 0.1865 - val_loss: 0.1906\n",
      "Epoch 13/50\n",
      "50/50 [==============================] - 0s 3ms/step - loss: 0.1860 - val_loss: 0.1910\n",
      "Epoch 14/50\n",
      "50/50 [==============================] - 0s 3ms/step - loss: 0.1861 - val_loss: 0.1907\n",
      "Epoch 15/50\n",
      "50/50 [==============================] - 0s 3ms/step - loss: 0.1845 - val_loss: 0.1915\n",
      "Epoch 16/50\n",
      "50/50 [==============================] - 0s 3ms/step - loss: 0.1846 - val_loss: 0.1910\n",
      "Epoch 17/50\n",
      "50/50 [==============================] - 0s 3ms/step - loss: 0.1843 - val_loss: 0.1907\n",
      "Epoch 18/50\n",
      "50/50 [==============================] - 0s 3ms/step - loss: 0.1832 - val_loss: 0.1918\n",
      "Epoch 19/50\n",
      "50/50 [==============================] - 0s 3ms/step - loss: 0.1825 - val_loss: 0.1915\n",
      "Epoch 20/50\n",
      "50/50 [==============================] - 0s 3ms/step - loss: 0.1828 - val_loss: 0.1918\n",
      "Epoch 21/50\n",
      "50/50 [==============================] - 0s 3ms/step - loss: 0.1818 - val_loss: 0.1920\n",
      "Epoch 22/50\n",
      "50/50 [==============================] - 0s 4ms/step - loss: 0.1815 - val_loss: 0.1927\n",
      "Epoch 23/50\n",
      "50/50 [==============================] - 0s 3ms/step - loss: 0.1803 - val_loss: 0.1931\n",
      "Epoch 24/50\n",
      "50/50 [==============================] - 0s 3ms/step - loss: 0.1797 - val_loss: 0.1921\n",
      "Epoch 25/50\n",
      "50/50 [==============================] - 0s 3ms/step - loss: 0.1794 - val_loss: 0.1938\n",
      "Epoch 26/50\n",
      "50/50 [==============================] - 0s 3ms/step - loss: 0.1786 - val_loss: 0.1934\n",
      "Epoch 27/50\n",
      "50/50 [==============================] - 0s 3ms/step - loss: 0.1786 - val_loss: 0.1931\n",
      "Epoch 28/50\n",
      "50/50 [==============================] - 0s 3ms/step - loss: 0.1778 - val_loss: 0.1929\n",
      "Epoch 29/50\n",
      "50/50 [==============================] - 0s 3ms/step - loss: 0.1778 - val_loss: 0.1927\n",
      "Epoch 30/50\n",
      "50/50 [==============================] - 0s 3ms/step - loss: 0.1768 - val_loss: 0.1932\n",
      "Epoch 31/50\n",
      "50/50 [==============================] - 0s 3ms/step - loss: 0.1766 - val_loss: 0.1936\n",
      "Epoch 32/50\n",
      "50/50 [==============================] - 0s 3ms/step - loss: 0.1758 - val_loss: 0.1933\n",
      "Epoch 33/50\n",
      "50/50 [==============================] - 0s 3ms/step - loss: 0.1750 - val_loss: 0.1936\n",
      "Epoch 34/50\n",
      "50/50 [==============================] - 0s 3ms/step - loss: 0.1766 - val_loss: 0.1943\n",
      "Epoch 35/50\n",
      "50/50 [==============================] - 0s 3ms/step - loss: 0.1742 - val_loss: 0.1941\n",
      "Epoch 36/50\n",
      "50/50 [==============================] - 0s 4ms/step - loss: 0.1743 - val_loss: 0.1942\n",
      "Epoch 37/50\n",
      "50/50 [==============================] - 0s 4ms/step - loss: 0.1737 - val_loss: 0.1959\n",
      "Epoch 38/50\n",
      "50/50 [==============================] - 0s 4ms/step - loss: 0.1739 - val_loss: 0.1945\n",
      "Epoch 39/50\n",
      "50/50 [==============================] - 0s 3ms/step - loss: 0.1733 - val_loss: 0.1954\n",
      "Epoch 40/50\n",
      "50/50 [==============================] - 0s 4ms/step - loss: 0.1736 - val_loss: 0.1954\n",
      "Epoch 41/50\n",
      "50/50 [==============================] - 0s 4ms/step - loss: 0.1729 - val_loss: 0.1985\n",
      "Epoch 42/50\n",
      "50/50 [==============================] - 0s 3ms/step - loss: 0.1716 - val_loss: 0.1954\n",
      "Epoch 43/50\n",
      "50/50 [==============================] - 0s 4ms/step - loss: 0.1718 - val_loss: 0.1953\n",
      "Epoch 44/50\n",
      "50/50 [==============================] - 0s 3ms/step - loss: 0.1711 - val_loss: 0.1956\n",
      "Epoch 45/50\n",
      "50/50 [==============================] - 0s 3ms/step - loss: 0.1706 - val_loss: 0.1968\n",
      "Epoch 46/50\n",
      "50/50 [==============================] - 0s 4ms/step - loss: 0.1705 - val_loss: 0.1958\n",
      "Epoch 47/50\n",
      "50/50 [==============================] - 0s 3ms/step - loss: 0.1702 - val_loss: 0.1976\n",
      "Epoch 48/50\n",
      "50/50 [==============================] - 0s 3ms/step - loss: 0.1699 - val_loss: 0.1958\n",
      "Epoch 49/50\n",
      "50/50 [==============================] - 0s 4ms/step - loss: 0.1687 - val_loss: 0.1970\n",
      "Epoch 50/50\n",
      "50/50 [==============================] - 0s 4ms/step - loss: 0.1690 - val_loss: 0.1978\n",
      "Minimum Validation Loss: 0.1898\n"
     ]
    },
    {
     "data": {
      "image/png": "[encoded data removed]",
      "text/plain": [
       "<Figure size 640x480 with 1 Axes>"
      ]
     },
     "metadata": {},
     "output_type": "display_data"
    }
   ],
   "source": [
    "model = keras.Sequential([\n",
    "    layers.Dense(128, activation='relu', input_shape=input_shape),\n",
    "    layers.Dense(64, activation='relu'),\n",
    "    layers.Dense(1)\n",
    "])\n",
    "model.compile(\n",
    "    optimizer='adam',\n",
    "    loss='mae',\n",
    ")\n",
    "history = model.fit(\n",
    "    X_train, y_train,\n",
    "    validation_data=(X_valid, y_valid),\n",
    "    batch_size=512,\n",
    "    epochs=50,\n",
    ")\n",
    "history_df = pd.DataFrame(history.history)\n",
    "history_df.loc[:, ['loss', 'val_loss']].plot()\n",
    "print(\"Minimum Validation Loss: {:0.4f}\".format(history_df['val_loss'].min()));"
   ]
  },
  {
   "cell_type": "markdown",
   "id": "06350119",
   "metadata": {
    "papermill": {
     "duration": 0.027223,
     "end_time": "2024-03-08T09:01:47.447209",
     "exception": false,
     "start_time": "2024-03-08T09:01:47.419986",
     "status": "completed"
    },
    "tags": []
   },
   "source": [
    "# 2) Add Capacity\n",
    "\n",
    "What is your evaluation of these curves? Underfitting, overfitting, just right?"
   ]
  },
  {
   "cell_type": "code",
   "execution_count": 7,
   "id": "66d5e2b4",
   "metadata": {
    "execution": {
     "iopub.execute_input": "2024-03-08T09:01:47.506919Z",
     "iopub.status.busy": "2024-03-08T09:01:47.506530Z",
     "iopub.status.idle": "2024-03-08T09:01:47.514418Z",
     "shell.execute_reply": "2024-03-08T09:01:47.513504Z"
    },
    "papermill": {
     "duration": 0.039815,
     "end_time": "2024-03-08T09:01:47.516283",
     "exception": false,
     "start_time": "2024-03-08T09:01:47.476468",
     "status": "completed"
    },
    "tags": []
   },
   "outputs": [
    {
     "data": {
      "application/javascript": [
       "parent.postMessage({\"jupyterEvent\": \"custom.exercise_interaction\", \"data\": {\"outcomeType\": 1, \"valueTowardsCompletion\": 0.25, \"interactionType\": 1, \"questionType\": 4, \"questionId\": \"2_Q2\", \"learnToolsVersion\": \"0.3.4\", \"failureMessage\": \"\", \"exceptionClass\": \"\", \"trace\": \"\"}}, \"*\")"
      ],
      "text/plain": [
       "<IPython.core.display.Javascript object>"
      ]
     },
     "metadata": {},
     "output_type": "display_data"
    },
    {
     "data": {
      "text/markdown": [
       "<span style=\"color:#33cc33\">Correct:</span> \n",
       "\n",
       "Now the validation loss begins to rise very early, while the training loss continues to decrease. This indicates that the network has begun to overfit. At this point, we would need to try something to prevent it, either by reducing the number of units or through a method like early stopping. (We'll see another in the next lesson!)"
      ],
      "text/plain": [
       "Correct: \n",
       "\n",
       "Now the validation loss begins to rise very early, while the training loss continues to decrease. This indicates that the network has begun to overfit. At this point, we would need to try something to prevent it, either by reducing the number of units or through a method like early stopping. (We'll see another in the next lesson!)"
      ]
     },
     "metadata": {},
     "output_type": "display_data"
    }
   ],
   "source": [
    "# View the solution (Run this cell to receive credit!)\n",
    "q_2.check()"
   ]
  },
  {
   "cell_type": "markdown",
   "id": "9cff1ecc",
   "metadata": {
    "papermill": {
     "duration": 0.027384,
     "end_time": "2024-03-08T09:01:47.570996",
     "exception": false,
     "start_time": "2024-03-08T09:01:47.543612",
     "status": "completed"
    },
    "tags": []
   },
   "source": [
    "# 3) Define Early Stopping Callback\n",
    "\n",
    "Now define an early stopping callback that waits 5 epochs (`patience'`) for a change in validation loss of at least `0.001` (`min_delta`) and keeps the weights with the best loss (`restore_best_weights`)."
   ]
  },
  {
   "cell_type": "code",
   "execution_count": 8,
   "id": "61b38393",
   "metadata": {
    "execution": {
     "iopub.execute_input": "2024-03-08T09:01:47.627408Z",
     "iopub.status.busy": "2024-03-08T09:01:47.627057Z",
     "iopub.status.idle": "2024-03-08T09:01:47.635241Z",
     "shell.execute_reply": "2024-03-08T09:01:47.634413Z"
    },
    "lines_to_next_cell": 0,
    "papermill": {
     "duration": 0.038656,
     "end_time": "2024-03-08T09:01:47.637219",
     "exception": false,
     "start_time": "2024-03-08T09:01:47.598563",
     "status": "completed"
    },
    "tags": []
   },
   "outputs": [
    {
     "data": {
      "application/javascript": [
       "parent.postMessage({\"jupyterEvent\": \"custom.exercise_interaction\", \"data\": {\"outcomeType\": 1, \"valueTowardsCompletion\": 0.25, \"interactionType\": 1, \"questionType\": 2, \"questionId\": \"3_Q3\", \"learnToolsVersion\": \"0.3.4\", \"failureMessage\": \"\", \"exceptionClass\": \"\", \"trace\": \"\"}}, \"*\")"
      ],
      "text/plain": [
       "<IPython.core.display.Javascript object>"
      ]
     },
     "metadata": {},
     "output_type": "display_data"
    },
    {
     "data": {
      "text/markdown": [
       "<span style=\"color:#33cc33\">Correct</span>"
      ],
      "text/plain": [
       "Correct"
      ]
     },
     "metadata": {},
     "output_type": "display_data"
    }
   ],
   "source": [
    "from tensorflow.keras import callbacks\n",
    "\n",
    "# YOUR CODE HERE: define an early stopping callback\n",
    "early_stopping = early_stopping = callbacks.EarlyStopping(\n",
    "    min_delta=0.001, # minimium amount of change to count as an improvement\n",
    "    patience=5, # how many epochs to wait before stopping\n",
    "    restore_best_weights=True,\n",
    ")\n",
    "# Check your answer\n",
    "q_3.check()"
   ]
  },
  {
   "cell_type": "code",
   "execution_count": 9,
   "id": "a2025f07",
   "metadata": {
    "execution": {
     "iopub.execute_input": "2024-03-08T09:01:47.693533Z",
     "iopub.status.busy": "2024-03-08T09:01:47.693228Z",
     "iopub.status.idle": "2024-03-08T09:01:47.696944Z",
     "shell.execute_reply": "2024-03-08T09:01:47.696155Z"
    },
    "papermill": {
     "duration": 0.034143,
     "end_time": "2024-03-08T09:01:47.698829",
     "exception": false,
     "start_time": "2024-03-08T09:01:47.664686",
     "status": "completed"
    },
    "tags": []
   },
   "outputs": [],
   "source": [
    "# Lines below will give you a hint or solution code\n",
    "#q_3.hint()\n",
    "#q_3.solution()"
   ]
  },
  {
   "cell_type": "markdown",
   "id": "77ce04f7",
   "metadata": {
    "papermill": {
     "duration": 0.027768,
     "end_time": "2024-03-08T09:01:47.754574",
     "exception": false,
     "start_time": "2024-03-08T09:01:47.726806",
     "status": "completed"
    },
    "tags": []
   },
   "source": [
    "Now run this cell to train the model and get the learning curves. Notice the `callbacks` argument in `model.fit`."
   ]
  },
  {
   "cell_type": "code",
   "execution_count": 10,
   "id": "a658543f",
   "metadata": {
    "execution": {
     "iopub.execute_input": "2024-03-08T09:01:47.813613Z",
     "iopub.status.busy": "2024-03-08T09:01:47.813262Z",
     "iopub.status.idle": "2024-03-08T09:01:50.988515Z",
     "shell.execute_reply": "2024-03-08T09:01:50.987519Z"
    },
    "papermill": {
     "duration": 3.208479,
     "end_time": "2024-03-08T09:01:50.990593",
     "exception": false,
     "start_time": "2024-03-08T09:01:47.782114",
     "status": "completed"
    },
    "tags": []
   },
   "outputs": [
    {
     "name": "stdout",
     "output_type": "stream",
     "text": [
      "Epoch 1/50\n",
      "50/50 [==============================] - 1s 6ms/step - loss: 0.2579 - val_loss: 0.2015\n",
      "Epoch 2/50\n",
      "50/50 [==============================] - 0s 4ms/step - loss: 0.2023 - val_loss: 0.1953\n",
      "Epoch 3/50\n",
      "50/50 [==============================] - 0s 4ms/step - loss: 0.1976 - val_loss: 0.1931\n",
      "Epoch 4/50\n",
      "50/50 [==============================] - 0s 4ms/step - loss: 0.1953 - val_loss: 0.1925\n",
      "Epoch 5/50\n",
      "50/50 [==============================] - 0s 3ms/step - loss: 0.1931 - val_loss: 0.1915\n",
      "Epoch 6/50\n",
      "50/50 [==============================] - 0s 3ms/step - loss: 0.1917 - val_loss: 0.1936\n",
      "Epoch 7/50\n",
      "50/50 [==============================] - 0s 4ms/step - loss: 0.1905 - val_loss: 0.1918\n",
      "Epoch 8/50\n",
      "50/50 [==============================] - 0s 3ms/step - loss: 0.1893 - val_loss: 0.1911\n",
      "Epoch 9/50\n",
      "50/50 [==============================] - 0s 3ms/step - loss: 0.1882 - val_loss: 0.1928\n",
      "Epoch 10/50\n",
      "50/50 [==============================] - 0s 4ms/step - loss: 0.1878 - val_loss: 0.1912\n",
      "Minimum Validation Loss: 0.1911\n"
     ]
    },
    {
     "data": {
      "image/png": "[encoded data removed]",
      "text/plain": [
       "<Figure size 640x480 with 1 Axes>"
      ]
     },
     "metadata": {},
     "output_type": "display_data"
    }
   ],
   "source": [
    "model = keras.Sequential([\n",
    "    layers.Dense(128, activation='relu', input_shape=input_shape),\n",
    "    layers.Dense(64, activation='relu'),    \n",
    "    layers.Dense(1)\n",
    "])\n",
    "model.compile(\n",
    "    optimizer='adam',\n",
    "    loss='mae',\n",
    ")\n",
    "history = model.fit(\n",
    "    X_train, y_train,\n",
    "    validation_data=(X_valid, y_valid),\n",
    "    batch_size=512,\n",
    "    epochs=50,\n",
    "    callbacks=[early_stopping]\n",
    ")\n",
    "history_df = pd.DataFrame(history.history)\n",
    "history_df.loc[:, ['loss', 'val_loss']].plot()\n",
    "print(\"Minimum Validation Loss: {:0.4f}\".format(history_df['val_loss'].min()));"
   ]
  },
  {
   "cell_type": "markdown",
   "id": "7b7e41fe",
   "metadata": {
    "papermill": {
     "duration": 0.0323,
     "end_time": "2024-03-08T09:01:51.055687",
     "exception": false,
     "start_time": "2024-03-08T09:01:51.023387",
     "status": "completed"
    },
    "tags": []
   },
   "source": [
    "# 4) Train and Interpret\n",
    "\n",
    "Was this an improvement compared to training without early stopping?"
   ]
  },
  {
   "cell_type": "code",
   "execution_count": 11,
   "id": "7272fc60",
   "metadata": {
    "execution": {
     "iopub.execute_input": "2024-03-08T09:01:51.121195Z",
     "iopub.status.busy": "2024-03-08T09:01:51.120819Z",
     "iopub.status.idle": "2024-03-08T09:01:51.128636Z",
     "shell.execute_reply": "2024-03-08T09:01:51.127756Z"
    },
    "papermill": {
     "duration": 0.042776,
     "end_time": "2024-03-08T09:01:51.130569",
     "exception": false,
     "start_time": "2024-03-08T09:01:51.087793",
     "status": "completed"
    },
    "tags": []
   },
   "outputs": [
    {
     "data": {
      "application/javascript": [
       "parent.postMessage({\"jupyterEvent\": \"custom.exercise_interaction\", \"data\": {\"outcomeType\": 1, \"valueTowardsCompletion\": 0.25, \"interactionType\": 1, \"questionType\": 4, \"questionId\": \"4_Q4\", \"learnToolsVersion\": \"0.3.4\", \"failureMessage\": \"\", \"exceptionClass\": \"\", \"trace\": \"\"}}, \"*\")"
      ],
      "text/plain": [
       "<IPython.core.display.Javascript object>"
      ]
     },
     "metadata": {},
     "output_type": "display_data"
    },
    {
     "data": {
      "text/markdown": [
       "<span style=\"color:#33cc33\">Correct:</span> \n",
       "\n",
       "The early stopping callback did stop the training once the network began overfitting. Moreover, by including `restore_best_weights` we still get to keep the model where validation loss was lowest."
      ],
      "text/plain": [
       "Correct: \n",
       "\n",
       "The early stopping callback did stop the training once the network began overfitting. Moreover, by including `restore_best_weights` we still get to keep the model where validation loss was lowest."
      ]
     },
     "metadata": {},
     "output_type": "display_data"
    }
   ],
   "source": [
    "# View the solution (Run this cell to receive credit!)\n",
    "q_4.check()"
   ]
  },
  {
   "cell_type": "markdown",
   "id": "849cbef1",
   "metadata": {
    "papermill": {
     "duration": 0.031936,
     "end_time": "2024-03-08T09:01:51.194701",
     "exception": false,
     "start_time": "2024-03-08T09:01:51.162765",
     "status": "completed"
    },
    "tags": []
   },
   "source": [
    "If you like, try experimenting with `patience` and `min_delta` to see what difference it might make.\n",
    "\n",
    "# Keep Going #\n",
    "\n",
    "Move on to [**learn about a couple of special layers**](https://www.kaggle.com/ryanholbrook/dropout-and-batch-normalization): batch normalization and dropout."
   ]
  },
  {
   "cell_type": "markdown",
   "id": "61ac354c",
   "metadata": {
    "papermill": {
     "duration": 0.031915,
     "end_time": "2024-03-08T09:01:51.258698",
     "exception": false,
     "start_time": "2024-03-08T09:01:51.226783",
     "status": "completed"
    },
    "tags": []
   },
   "source": [
    "---\n",
    "\n",
    "\n",
    "\n",
    "\n",
    "*Have questions or comments? Visit the [course discussion forum](https://www.kaggle.com/learn/intro-to-deep-learning/discussion) to chat with other learners.*"
   ]
  }
 ],
 "metadata": {
  "jupytext": {
   "cell_metadata_filter": "-all",
   "formats": "ipynb"
  },
  "kaggle": {
   "accelerator": "gpu",
   "dataSources": [
    {
     "datasetId": 829369,
     "sourceId": 1480608,
     "sourceType": "datasetVersion"
    }
   ],
   "dockerImageVersionId": 30648,
   "isGpuEnabled": true,
   "isInternetEnabled": false,
   "language": "python",
   "sourceType": "notebook"
  },
  "kernelspec": {
   "display_name": "Python 3",
   "language": "python",
   "name": "python3"
  },
  "language_info": {
   "codemirror_mode": {
    "name": "ipython",
    "version": 3
   },
   "file_extension": ".py",
   "mimetype": "text/x-python",
   "name": "python",
   "nbconvert_exporter": "python",
   "pygments_lexer": "ipython3",
   "version": "3.10.13"
  },
  "papermill": {
   "default_parameters": {},
   "duration": 44.197307,
   "end_time": "2024-03-08T09:01:53.810208",
   "environment_variables": {},
   "exception": null,
   "input_path": "__notebook__.ipynb",
   "output_path": "__notebook__.ipynb",
   "parameters": {},
   "start_time": "2024-03-08T09:01:09.612901",
   "version": "2.5.0"
  }
 },
 "nbformat": 4,
 "nbformat_minor": 5
}
